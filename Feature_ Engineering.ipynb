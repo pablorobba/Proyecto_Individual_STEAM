{
 "cells": [
  {
   "cell_type": "markdown",
   "metadata": {},
   "source": [
    "# Feature Engineering"
   ]
  },
  {
   "cell_type": "markdown",
   "metadata": {},
   "source": [
    "## Import the libraries"
   ]
  },
  {
   "cell_type": "code",
   "execution_count": 1,
   "metadata": {},
   "outputs": [],
   "source": [
    "import pandas as pd\n",
    "import numpy as np\n",
    "from textblob import TextBlob\n",
    "%load_ext autoreload\n",
    "%autoreload 2"
   ]
  },
  {
   "cell_type": "markdown",
   "metadata": {},
   "source": [
    "## Create the Dataframe"
   ]
  },
  {
   "cell_type": "code",
   "execution_count": 3,
   "metadata": {},
   "outputs": [],
   "source": [
    "df_reviews = pd.read_csv(r'Datasets\\user_reviews_clean.csv')"
   ]
  },
  {
   "cell_type": "code",
   "execution_count": 4,
   "metadata": {},
   "outputs": [],
   "source": [
    "df_items = pd.read_csv(r'Datasets\\user_items_clean.csv')"
   ]
  },
  {
   "cell_type": "code",
   "execution_count": 5,
   "metadata": {},
   "outputs": [],
   "source": [
    "df_games = pd.read_csv(r'Datasets\\steam_games_clean.csv')"
   ]
  },
  {
   "cell_type": "code",
   "execution_count": 6,
   "metadata": {},
   "outputs": [
    {
     "data": {
      "text/html": [
       "<div>\n",
       "<style scoped>\n",
       "    .dataframe tbody tr th:only-of-type {\n",
       "        vertical-align: middle;\n",
       "    }\n",
       "\n",
       "    .dataframe tbody tr th {\n",
       "        vertical-align: top;\n",
       "    }\n",
       "\n",
       "    .dataframe thead th {\n",
       "        text-align: right;\n",
       "    }\n",
       "</style>\n",
       "<table border=\"1\" class=\"dataframe\">\n",
       "  <thead>\n",
       "    <tr style=\"text-align: right;\">\n",
       "      <th></th>\n",
       "      <th>user_id</th>\n",
       "      <th>user_url</th>\n",
       "      <th>funny</th>\n",
       "      <th>posted</th>\n",
       "      <th>last_edited</th>\n",
       "      <th>item_id</th>\n",
       "      <th>helpful</th>\n",
       "      <th>recommend</th>\n",
       "      <th>review</th>\n",
       "    </tr>\n",
       "  </thead>\n",
       "  <tbody>\n",
       "    <tr>\n",
       "      <th>0</th>\n",
       "      <td>maplemage</td>\n",
       "      <td>http://steamcommunity.com/id/maplemage</td>\n",
       "      <td>3 people found this review funny</td>\n",
       "      <td>Posted April 15, 2014.</td>\n",
       "      <td>NaN</td>\n",
       "      <td>211420</td>\n",
       "      <td>35 of 43 people (81%) found this review helpful</td>\n",
       "      <td>True</td>\n",
       "      <td>Git gud</td>\n",
       "    </tr>\n",
       "    <tr>\n",
       "      <th>1</th>\n",
       "      <td>maplemage</td>\n",
       "      <td>http://steamcommunity.com/id/maplemage</td>\n",
       "      <td>1 person found this review funny</td>\n",
       "      <td>Posted December 23, 2013.</td>\n",
       "      <td>NaN</td>\n",
       "      <td>211820</td>\n",
       "      <td>12 of 16 people (75%) found this review helpful</td>\n",
       "      <td>True</td>\n",
       "      <td>It's like Terraria, you play for 9 hours strai...</td>\n",
       "    </tr>\n",
       "    <tr>\n",
       "      <th>2</th>\n",
       "      <td>maplemage</td>\n",
       "      <td>http://steamcommunity.com/id/maplemage</td>\n",
       "      <td>2 people found this review funny</td>\n",
       "      <td>Posted March 14, 2014.</td>\n",
       "      <td>NaN</td>\n",
       "      <td>730</td>\n",
       "      <td>5 of 5 people (100%) found this review helpful</td>\n",
       "      <td>True</td>\n",
       "      <td>Hold shift to win, Hold CTRL to lose.</td>\n",
       "    </tr>\n",
       "    <tr>\n",
       "      <th>3</th>\n",
       "      <td>Wackky</td>\n",
       "      <td>http://steamcommunity.com/id/Wackky</td>\n",
       "      <td>1 person found this review funny</td>\n",
       "      <td>Posted October 21, 2012.</td>\n",
       "      <td>Last edited November 25, 2013.</td>\n",
       "      <td>550</td>\n",
       "      <td>1 of 1 people (100%) found this review helpful</td>\n",
       "      <td>True</td>\n",
       "      <td>This game is fantastic if you are looking to D...</td>\n",
       "    </tr>\n",
       "    <tr>\n",
       "      <th>4</th>\n",
       "      <td>76561198079601835</td>\n",
       "      <td>http://steamcommunity.com/profiles/76561198079...</td>\n",
       "      <td>1 person found this review funny</td>\n",
       "      <td>Posted May 20.</td>\n",
       "      <td>NaN</td>\n",
       "      <td>730</td>\n",
       "      <td>0 of 1 people (0%) found this review helpful</td>\n",
       "      <td>True</td>\n",
       "      <td>ZIKA DO BAILE</td>\n",
       "    </tr>\n",
       "    <tr>\n",
       "      <th>...</th>\n",
       "      <td>...</td>\n",
       "      <td>...</td>\n",
       "      <td>...</td>\n",
       "      <td>...</td>\n",
       "      <td>...</td>\n",
       "      <td>...</td>\n",
       "      <td>...</td>\n",
       "      <td>...</td>\n",
       "      <td>...</td>\n",
       "    </tr>\n",
       "    <tr>\n",
       "      <th>8005</th>\n",
       "      <td>MeloncraftLP</td>\n",
       "      <td>http://steamcommunity.com/id/MeloncraftLP</td>\n",
       "      <td>2 people found this review funny</td>\n",
       "      <td>Posted July 27.</td>\n",
       "      <td>NaN</td>\n",
       "      <td>265630</td>\n",
       "      <td>1 of 15 people (7%) found this review helpful</td>\n",
       "      <td>False</td>\n",
       "      <td>DON'T INSTALL THIS GAME!!!!!!!!!!!!!!!!!!!!!!!...</td>\n",
       "    </tr>\n",
       "    <tr>\n",
       "      <th>8006</th>\n",
       "      <td>76561198277602337</td>\n",
       "      <td>http://steamcommunity.com/profiles/76561198277...</td>\n",
       "      <td>3 people found this review funny</td>\n",
       "      <td>Posted August 2.</td>\n",
       "      <td>NaN</td>\n",
       "      <td>306130</td>\n",
       "      <td>4 of 19 people (21%) found this review helpful</td>\n",
       "      <td>False</td>\n",
       "      <td>Game is terrible! So, Iv tried 15hrs tryin to ...</td>\n",
       "    </tr>\n",
       "    <tr>\n",
       "      <th>8007</th>\n",
       "      <td>sexyawp</td>\n",
       "      <td>http://steamcommunity.com/id/sexyawp</td>\n",
       "      <td>1 person found this review funny</td>\n",
       "      <td>Posted April 25.</td>\n",
       "      <td>NaN</td>\n",
       "      <td>427730</td>\n",
       "      <td>1 of 2 people (50%) found this review helpful</td>\n",
       "      <td>True</td>\n",
       "      <td>dont ask</td>\n",
       "    </tr>\n",
       "    <tr>\n",
       "      <th>8008</th>\n",
       "      <td>76561198310819422</td>\n",
       "      <td>http://steamcommunity.com/profiles/76561198310...</td>\n",
       "      <td>1 person found this review funny</td>\n",
       "      <td>Posted June 23.</td>\n",
       "      <td>NaN</td>\n",
       "      <td>570</td>\n",
       "      <td>1 of 1 people (100%) found this review helpful</td>\n",
       "      <td>True</td>\n",
       "      <td>Well Done</td>\n",
       "    </tr>\n",
       "    <tr>\n",
       "      <th>8009</th>\n",
       "      <td>LydiaMorley</td>\n",
       "      <td>http://steamcommunity.com/id/LydiaMorley</td>\n",
       "      <td>1 person found this review funny</td>\n",
       "      <td>Posted July 3.</td>\n",
       "      <td>NaN</td>\n",
       "      <td>273110</td>\n",
       "      <td>1 of 2 people (50%) found this review helpful</td>\n",
       "      <td>True</td>\n",
       "      <td>had so much fun plaing this and collecting res...</td>\n",
       "    </tr>\n",
       "  </tbody>\n",
       "</table>\n",
       "<p>8010 rows × 9 columns</p>\n",
       "</div>"
      ],
      "text/plain": [
       "                user_id                                           user_url  \\\n",
       "0             maplemage             http://steamcommunity.com/id/maplemage   \n",
       "1             maplemage             http://steamcommunity.com/id/maplemage   \n",
       "2             maplemage             http://steamcommunity.com/id/maplemage   \n",
       "3                Wackky                http://steamcommunity.com/id/Wackky   \n",
       "4     76561198079601835  http://steamcommunity.com/profiles/76561198079...   \n",
       "...                 ...                                                ...   \n",
       "8005       MeloncraftLP          http://steamcommunity.com/id/MeloncraftLP   \n",
       "8006  76561198277602337  http://steamcommunity.com/profiles/76561198277...   \n",
       "8007            sexyawp               http://steamcommunity.com/id/sexyawp   \n",
       "8008  76561198310819422  http://steamcommunity.com/profiles/76561198310...   \n",
       "8009        LydiaMorley           http://steamcommunity.com/id/LydiaMorley   \n",
       "\n",
       "                                 funny                     posted  \\\n",
       "0     3 people found this review funny     Posted April 15, 2014.   \n",
       "1     1 person found this review funny  Posted December 23, 2013.   \n",
       "2     2 people found this review funny     Posted March 14, 2014.   \n",
       "3     1 person found this review funny   Posted October 21, 2012.   \n",
       "4     1 person found this review funny             Posted May 20.   \n",
       "...                                ...                        ...   \n",
       "8005  2 people found this review funny            Posted July 27.   \n",
       "8006  3 people found this review funny           Posted August 2.   \n",
       "8007  1 person found this review funny           Posted April 25.   \n",
       "8008  1 person found this review funny            Posted June 23.   \n",
       "8009  1 person found this review funny             Posted July 3.   \n",
       "\n",
       "                         last_edited  item_id  \\\n",
       "0                                NaN   211420   \n",
       "1                                NaN   211820   \n",
       "2                                NaN      730   \n",
       "3     Last edited November 25, 2013.      550   \n",
       "4                                NaN      730   \n",
       "...                              ...      ...   \n",
       "8005                             NaN   265630   \n",
       "8006                             NaN   306130   \n",
       "8007                             NaN   427730   \n",
       "8008                             NaN      570   \n",
       "8009                             NaN   273110   \n",
       "\n",
       "                                              helpful  recommend  \\\n",
       "0     35 of 43 people (81%) found this review helpful       True   \n",
       "1     12 of 16 people (75%) found this review helpful       True   \n",
       "2      5 of 5 people (100%) found this review helpful       True   \n",
       "3      1 of 1 people (100%) found this review helpful       True   \n",
       "4        0 of 1 people (0%) found this review helpful       True   \n",
       "...                                               ...        ...   \n",
       "8005    1 of 15 people (7%) found this review helpful      False   \n",
       "8006   4 of 19 people (21%) found this review helpful      False   \n",
       "8007    1 of 2 people (50%) found this review helpful       True   \n",
       "8008   1 of 1 people (100%) found this review helpful       True   \n",
       "8009    1 of 2 people (50%) found this review helpful       True   \n",
       "\n",
       "                                                 review  \n",
       "0                                               Git gud  \n",
       "1     It's like Terraria, you play for 9 hours strai...  \n",
       "2                 Hold shift to win, Hold CTRL to lose.  \n",
       "3     This game is fantastic if you are looking to D...  \n",
       "4                                         ZIKA DO BAILE  \n",
       "...                                                 ...  \n",
       "8005  DON'T INSTALL THIS GAME!!!!!!!!!!!!!!!!!!!!!!!...  \n",
       "8006  Game is terrible! So, Iv tried 15hrs tryin to ...  \n",
       "8007                                           dont ask  \n",
       "8008                                          Well Done  \n",
       "8009  had so much fun plaing this and collecting res...  \n",
       "\n",
       "[8010 rows x 9 columns]"
      ]
     },
     "execution_count": 6,
     "metadata": {},
     "output_type": "execute_result"
    }
   ],
   "source": [
    "df_reviews"
   ]
  },
  {
   "cell_type": "markdown",
   "metadata": {},
   "source": [
    "## Sentiment Analysis"
   ]
  },
  {
   "cell_type": "markdown",
   "metadata": {},
   "source": [
    "We make a function to analyze the sentiments in df_reviews, we will apply it in the reviews column to make a new column and delete the other, to simplify the work of the machine learning"
   ]
  },
  {
   "cell_type": "code",
   "execution_count": 7,
   "metadata": {},
   "outputs": [],
   "source": [
    "def analyze_sentiment(text):\n",
    "    if text is None:\n",
    "        return 1    \n",
    "    \n",
    "    analysis = TextBlob(text)\n",
    "    sentiment = analysis.sentiment.polarity\n",
    "    \n",
    "    if sentiment < -0.1:  \n",
    "        return 0\n",
    "    elif sentiment > 0.1:  \n",
    "        return 2\n",
    "    else:  \n",
    "        return 1"
   ]
  },
  {
   "cell_type": "code",
   "execution_count": 8,
   "metadata": {},
   "outputs": [],
   "source": [
    "df_reviews['review'] = df_reviews['review'].astype(str)"
   ]
  },
  {
   "cell_type": "code",
   "execution_count": 9,
   "metadata": {},
   "outputs": [],
   "source": [
    "df_reviews['sentiment_analysis'] = df_reviews.review.apply(analyze_sentiment)"
   ]
  },
  {
   "cell_type": "code",
   "execution_count": 11,
   "metadata": {},
   "outputs": [
    {
     "data": {
      "text/plain": [
       "Index(['user_id', 'user_url', 'funny', 'posted', 'last_edited', 'item_id',\n",
       "       'helpful', 'recommend', 'sentiment_analysis'],\n",
       "      dtype='object')"
      ]
     },
     "execution_count": 11,
     "metadata": {},
     "output_type": "execute_result"
    }
   ],
   "source": [
    "df_reviews = df_reviews.drop(columns=['review'])\n",
    "df_reviews.columns "
   ]
  },
  {
   "cell_type": "code",
   "execution_count": null,
   "metadata": {},
   "outputs": [],
   "source": []
  }
 ],
 "metadata": {
  "kernelspec": {
   "display_name": "Python 3",
   "language": "python",
   "name": "python3"
  },
  "language_info": {
   "codemirror_mode": {
    "name": "ipython",
    "version": 3
   },
   "file_extension": ".py",
   "mimetype": "text/x-python",
   "name": "python",
   "nbconvert_exporter": "python",
   "pygments_lexer": "ipython3",
   "version": "3.11.0"
  }
 },
 "nbformat": 4,
 "nbformat_minor": 2
}
