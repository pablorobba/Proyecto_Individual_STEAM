{
 "cells": [
  {
   "cell_type": "markdown",
   "metadata": {},
   "source": [
    "# API Function testing"
   ]
  },
  {
   "cell_type": "markdown",
   "metadata": {},
   "source": [
    "Here we are going to create and test the functions for the API to see if they work properly"
   ]
  },
  {
   "cell_type": "code",
   "execution_count": 2,
   "metadata": {},
   "outputs": [],
   "source": [
    "import pandas as pd\n",
    "import numpy as np\n",
    "%load_ext autoreload\n",
    "%autoreload 2"
   ]
  },
  {
   "cell_type": "code",
   "execution_count": 29,
   "metadata": {},
   "outputs": [],
   "source": [
    "df_developer = pd.read_csv(r\"Api_DataFrame\\developer.csv\")\n",
    "df_userdata = pd.read_csv(r\"Api_DataFrame\\userdata.csv\")\n",
    "df_best_developer_year= pd.read_csv(r\"Api_DataFrame/best_developer_year.csv\")\n",
    "df_UserForGenre_genre = pd.read_csv(r\"Api_DataFrame/UserForGenre_genre.csv\")\n",
    "df_UserForGenre_year = pd.read_csv(r\"Api_DataFrame\\UserForGenre_year.csv\")\n",
    "df_developer_reviews_analysis = pd.read_csv(r\"Api_DataFrame\\developer_reviews_analysis.csv\")"
   ]
  },
  {
   "cell_type": "code",
   "execution_count": 32,
   "metadata": {},
   "outputs": [],
   "source": [
    "def developer(developer : str):\n",
    "    \"\"\"This function shows the number of items and the percentage by year, \n",
    "    by developer \n",
    "\n",
    "    Args:\n",
    "        developer (str): recives the name of a developer company as a string\n",
    "    \"\"\"\n",
    "    aux = df_developer[[\"Year\",\"Total Items\",\"Percentage of Zero Price\",\"Developer\"]]\n",
    "    mask = aux.Developer == developer\n",
    "    aux = df_developer[mask]\n",
    "    dictionary = {\"Year\": aux[\"Year\"].values, \"Number of items\": aux[\"Total Items\"].values,\n",
    "                  \"% of Free content\": aux[\"Percentage of Zero Price\"].values} \n",
    "    return dictionary"
   ]
  },
  {
   "cell_type": "code",
   "execution_count": 31,
   "metadata": {},
   "outputs": [
    {
     "data": {
      "text/plain": [
       "{'Year': array([1998, 1999, 2000, 2001, 2003, 2004, 2005, 2006, 2007, 2008, 2009,\n",
       "        2010, 2011, 2012], dtype=int64),\n",
       " 'Number of items': array([ 1454493,  1227537,  2146498,   683753,   716398, 10260415,\n",
       "         2821935,  4284788,  4738919,  1188147,  3952228,   887846,\n",
       "         3149443,  4120089], dtype=int64),\n",
       " '% of Free content': array([0.        , 0.        , 0.        , 0.        , 0.        ,\n",
       "        0.        , 0.69498412, 0.        , 0.        , 0.        ,\n",
       "        0.        , 0.        , 0.        , 0.        ])}"
      ]
     },
     "execution_count": 31,
     "metadata": {},
     "output_type": "execute_result"
    }
   ],
   "source": [
    "developer(\"Valve\")"
   ]
  }
 ],
 "metadata": {
  "kernelspec": {
   "display_name": "Python 3",
   "language": "python",
   "name": "python3"
  },
  "language_info": {
   "codemirror_mode": {
    "name": "ipython",
    "version": 3
   },
   "file_extension": ".py",
   "mimetype": "text/x-python",
   "name": "python",
   "nbconvert_exporter": "python",
   "pygments_lexer": "ipython3",
   "version": "3.11.0"
  }
 },
 "nbformat": 4,
 "nbformat_minor": 2
}
