{
 "cells": [
  {
   "cell_type": "markdown",
   "metadata": {},
   "source": [
    "# API Function testing"
   ]
  },
  {
   "cell_type": "markdown",
   "metadata": {},
   "source": [
    "Here we are going to create and test the functions for the API to see if they work properly"
   ]
  },
  {
   "cell_type": "code",
   "execution_count": 1,
   "metadata": {},
   "outputs": [],
   "source": [
    "import pandas as pd\n",
    "import numpy as np\n",
    "%load_ext autoreload\n",
    "%autoreload 2"
   ]
  },
  {
   "cell_type": "code",
   "execution_count": 69,
   "metadata": {},
   "outputs": [],
   "source": [
    "df_developer = pd.read_csv(r\"Api_DataFrame\\developer.csv\")\n",
    "df_userdata = pd.read_csv(r\"Api_DataFrame\\userdata.csv\")\n",
    "df_best_developer_year= pd.read_csv(r\"Api_DataFrame/best_developer_year.csv\")\n",
    "df_UserForGenre_genre = pd.read_csv(r\"Api_DataFrame/UserForGenre_genre.csv\")\n",
    "df_UserForGenre_year = pd.read_csv(r\"Api_DataFrame\\UserForGenre_year.csv\")\n",
    "df_developer_reviews_analysis = pd.read_csv(r\"Api_DataFrame\\developer_reviews_analysis.csv\")"
   ]
  },
  {
   "cell_type": "markdown",
   "metadata": {},
   "source": [
    "We can make two functions, one to make an array, other to make a list. Since the arrays are better optimized, we will use an array"
   ]
  },
  {
   "cell_type": "code",
   "execution_count": 70,
   "metadata": {},
   "outputs": [],
   "source": [
    "#this shows a list\n",
    "def developer(developer: str):\n",
    "    \"\"\"This function shows the number of items and the percentage by year,\n",
    "    by developer\n",
    "\n",
    "    Args:\n",
    "        developer (str): recibe el nombre de una empresa desarrolladora como cadena\n",
    "    \"\"\"\n",
    "    aux = df_developer[[\"Year\", \"Total Items\", \"Percentage of Zero Price\", \"Developer\"]]\n",
    "    mask = aux.Developer == developer\n",
    "    aux = df_developer[mask]\n",
    "    \n",
    "    years = aux[\"Year\"].values\n",
    "    num_items = aux[\"Total Items\"].values\n",
    "    percent_free_content = aux[\"Percentage of Zero Price\"].values\n",
    "    \n",
    "    result = {\"Year\": years.tolist(), \"Number of items\": num_items.tolist(), \"% of Free content\": percent_free_content.tolist()}\n",
    "    return result\n"
   ]
  },
  {
   "cell_type": "code",
   "execution_count": 71,
   "metadata": {},
   "outputs": [
    {
     "data": {
      "text/plain": [
       "{'Year': [1998,\n",
       "  1999,\n",
       "  2000,\n",
       "  2001,\n",
       "  2003,\n",
       "  2004,\n",
       "  2005,\n",
       "  2006,\n",
       "  2007,\n",
       "  2008,\n",
       "  2009,\n",
       "  2010,\n",
       "  2011,\n",
       "  2012],\n",
       " 'Number of items': [1454493,\n",
       "  1227537,\n",
       "  2146498,\n",
       "  683753,\n",
       "  716398,\n",
       "  10260415,\n",
       "  2821935,\n",
       "  4284788,\n",
       "  4738919,\n",
       "  1188147,\n",
       "  3952228,\n",
       "  887846,\n",
       "  3149443,\n",
       "  4120089],\n",
       " '% of Free content': [0.0,\n",
       "  0.0,\n",
       "  0.0,\n",
       "  0.0,\n",
       "  0.0,\n",
       "  0.0,\n",
       "  0.6949841155093933,\n",
       "  0.0,\n",
       "  0.0,\n",
       "  0.0,\n",
       "  0.0,\n",
       "  0.0,\n",
       "  0.0,\n",
       "  0.0]}"
      ]
     },
     "execution_count": 71,
     "metadata": {},
     "output_type": "execute_result"
    }
   ],
   "source": [
    "developer(\"Valve\")"
   ]
  },
  {
   "cell_type": "code",
   "execution_count": 72,
   "metadata": {},
   "outputs": [],
   "source": [
    "#and this an array\n",
    "def developer(developer : str):\n",
    "    \"\"\"This function shows the number of items and the percentage by year, \n",
    "    by developer \n",
    "\n",
    "    Args:\n",
    "        developer (str): recives the name of a developer company as a string\n",
    "    \"\"\"\n",
    "    aux = df_developer[[\"Year\",\"Total Items\",\"Percentage of Zero Price\",\"Developer\"]]\n",
    "    mask = aux.Developer == developer\n",
    "    aux = df_developer[mask]\n",
    "    dictionary = {\"Year\": aux[\"Year\"].values, \"Number of items\": aux[\"Total Items\"].values,\n",
    "                  \"% of Free content\": aux[\"Percentage of Zero Price\"].values} \n",
    "    return dictionary"
   ]
  },
  {
   "cell_type": "code",
   "execution_count": 73,
   "metadata": {},
   "outputs": [
    {
     "data": {
      "text/plain": [
       "{'Year': array([1998, 1999, 2000, 2001, 2003, 2004, 2005, 2006, 2007, 2008, 2009,\n",
       "        2010, 2011, 2012], dtype=int64),\n",
       " 'Number of items': array([ 1454493,  1227537,  2146498,   683753,   716398, 10260415,\n",
       "         2821935,  4284788,  4738919,  1188147,  3952228,   887846,\n",
       "         3149443,  4120089], dtype=int64),\n",
       " '% of Free content': array([0.        , 0.        , 0.        , 0.        , 0.        ,\n",
       "        0.        , 0.69498412, 0.        , 0.        , 0.        ,\n",
       "        0.        , 0.        , 0.        , 0.        ])}"
      ]
     },
     "execution_count": 73,
     "metadata": {},
     "output_type": "execute_result"
    }
   ],
   "source": [
    "developer(\"Valve\")"
   ]
  },
  {
   "cell_type": "code",
   "execution_count": 82,
   "metadata": {},
   "outputs": [],
   "source": [
    "def userdata(User_id : str):  \n",
    "    \"\"\"this function returns the money spent by the user, and takes for argument his username as a string\n",
    "    \"\"\"\n",
    "    mask = df_userdata[\"user_id\"] == User_id\n",
    "    df_userdata2 = df_userdata[mask]\n",
    "    diccionary = {\"User id\": df_userdata2[\"user_id\"].values[0], \n",
    "                  \"Money spent\": df_userdata2[\"money_spent\"].values[0],\n",
    "                  \"recommendation %\": df_userdata2[\"percentage_reviews\"].values[0],\n",
    "                  \"amount of items\":df_userdata2[\"items_count\"].values[0]}\n",
    "    return diccionary"
   ]
  },
  {
   "cell_type": "code",
   "execution_count": 83,
   "metadata": {},
   "outputs": [
    {
     "data": {
      "text/plain": [
       "{'User id': '-Zovix-',\n",
       " 'Money spent': 13326.11,\n",
       " 'recommendation %': 100.0,\n",
       " 'amount of items': 552941.0}"
      ]
     },
     "execution_count": 83,
     "metadata": {},
     "output_type": "execute_result"
    }
   ],
   "source": [
    "userdata(\"-Zovix-\")"
   ]
  },
  {
   "cell_type": "code",
   "execution_count": 84,
   "metadata": {},
   "outputs": [
    {
     "data": {
      "text/html": [
       "<div>\n",
       "<style scoped>\n",
       "    .dataframe tbody tr th:only-of-type {\n",
       "        vertical-align: middle;\n",
       "    }\n",
       "\n",
       "    .dataframe tbody tr th {\n",
       "        vertical-align: top;\n",
       "    }\n",
       "\n",
       "    .dataframe thead th {\n",
       "        text-align: right;\n",
       "    }\n",
       "</style>\n",
       "<table border=\"1\" class=\"dataframe\">\n",
       "  <thead>\n",
       "    <tr style=\"text-align: right;\">\n",
       "      <th></th>\n",
       "      <th>genre</th>\n",
       "      <th>user_id</th>\n",
       "      <th>playtime_genre</th>\n",
       "    </tr>\n",
       "  </thead>\n",
       "  <tbody>\n",
       "    <tr>\n",
       "      <th>0</th>\n",
       "      <td>1980s</td>\n",
       "      <td>-Mad-</td>\n",
       "      <td>0.0</td>\n",
       "    </tr>\n",
       "    <tr>\n",
       "      <th>1</th>\n",
       "      <td>1980s</td>\n",
       "      <td>00690069006900</td>\n",
       "      <td>0.0</td>\n",
       "    </tr>\n",
       "    <tr>\n",
       "      <th>2</th>\n",
       "      <td>1980s</td>\n",
       "      <td>007james_bond</td>\n",
       "      <td>30.0</td>\n",
       "    </tr>\n",
       "    <tr>\n",
       "      <th>3</th>\n",
       "      <td>1980s</td>\n",
       "      <td>08alross</td>\n",
       "      <td>0.0</td>\n",
       "    </tr>\n",
       "    <tr>\n",
       "      <th>4</th>\n",
       "      <td>1980s</td>\n",
       "      <td>091263</td>\n",
       "      <td>0.0</td>\n",
       "    </tr>\n",
       "    <tr>\n",
       "      <th>...</th>\n",
       "      <td>...</td>\n",
       "      <td>...</td>\n",
       "      <td>...</td>\n",
       "    </tr>\n",
       "    <tr>\n",
       "      <th>791030</th>\n",
       "      <td>e-sports</td>\n",
       "      <td>zuilde</td>\n",
       "      <td>7.0</td>\n",
       "    </tr>\n",
       "    <tr>\n",
       "      <th>791031</th>\n",
       "      <td>e-sports</td>\n",
       "      <td>zwanzigdrei</td>\n",
       "      <td>512.0</td>\n",
       "    </tr>\n",
       "    <tr>\n",
       "      <th>791032</th>\n",
       "      <td>e-sports</td>\n",
       "      <td>zyxwvutsrqponm</td>\n",
       "      <td>0.0</td>\n",
       "    </tr>\n",
       "    <tr>\n",
       "      <th>791033</th>\n",
       "      <td>e-sports</td>\n",
       "      <td>zzeee</td>\n",
       "      <td>1.0</td>\n",
       "    </tr>\n",
       "    <tr>\n",
       "      <th>791034</th>\n",
       "      <td>e-sports</td>\n",
       "      <td>zzzmidmiss</td>\n",
       "      <td>38.0</td>\n",
       "    </tr>\n",
       "  </tbody>\n",
       "</table>\n",
       "<p>791035 rows × 3 columns</p>\n",
       "</div>"
      ],
      "text/plain": [
       "           genre         user_id  playtime_genre\n",
       "0          1980s           -Mad-             0.0\n",
       "1          1980s  00690069006900             0.0\n",
       "2          1980s   007james_bond            30.0\n",
       "3          1980s        08alross             0.0\n",
       "4          1980s          091263             0.0\n",
       "...          ...             ...             ...\n",
       "791030  e-sports          zuilde             7.0\n",
       "791031  e-sports     zwanzigdrei           512.0\n",
       "791032  e-sports  zyxwvutsrqponm             0.0\n",
       "791033  e-sports           zzeee             1.0\n",
       "791034  e-sports      zzzmidmiss            38.0\n",
       "\n",
       "[791035 rows x 3 columns]"
      ]
     },
     "execution_count": 84,
     "metadata": {},
     "output_type": "execute_result"
    }
   ],
   "source": [
    "df_UserForGenre_genre"
   ]
  },
  {
   "cell_type": "code",
   "execution_count": 85,
   "metadata": {},
   "outputs": [
    {
     "data": {
      "text/html": [
       "<div>\n",
       "<style scoped>\n",
       "    .dataframe tbody tr th:only-of-type {\n",
       "        vertical-align: middle;\n",
       "    }\n",
       "\n",
       "    .dataframe tbody tr th {\n",
       "        vertical-align: top;\n",
       "    }\n",
       "\n",
       "    .dataframe thead th {\n",
       "        text-align: right;\n",
       "    }\n",
       "</style>\n",
       "<table border=\"1\" class=\"dataframe\">\n",
       "  <thead>\n",
       "    <tr style=\"text-align: right;\">\n",
       "      <th></th>\n",
       "      <th>user_id</th>\n",
       "      <th>year</th>\n",
       "      <th>playtime_year</th>\n",
       "    </tr>\n",
       "  </thead>\n",
       "  <tbody>\n",
       "    <tr>\n",
       "      <th>0</th>\n",
       "      <td>--000--</td>\n",
       "      <td>2006</td>\n",
       "      <td>1850.0</td>\n",
       "    </tr>\n",
       "    <tr>\n",
       "      <th>1</th>\n",
       "      <td>--000--</td>\n",
       "      <td>2009</td>\n",
       "      <td>5329.0</td>\n",
       "    </tr>\n",
       "    <tr>\n",
       "      <th>2</th>\n",
       "      <td>--000--</td>\n",
       "      <td>2010</td>\n",
       "      <td>66.0</td>\n",
       "    </tr>\n",
       "    <tr>\n",
       "      <th>3</th>\n",
       "      <td>--000--</td>\n",
       "      <td>2011</td>\n",
       "      <td>15564.0</td>\n",
       "    </tr>\n",
       "    <tr>\n",
       "      <th>4</th>\n",
       "      <td>--000--</td>\n",
       "      <td>2012</td>\n",
       "      <td>118326.0</td>\n",
       "    </tr>\n",
       "    <tr>\n",
       "      <th>...</th>\n",
       "      <td>...</td>\n",
       "      <td>...</td>\n",
       "      <td>...</td>\n",
       "    </tr>\n",
       "    <tr>\n",
       "      <th>772333</th>\n",
       "      <td>zzzmidmiss</td>\n",
       "      <td>2011</td>\n",
       "      <td>2514.0</td>\n",
       "    </tr>\n",
       "    <tr>\n",
       "      <th>772334</th>\n",
       "      <td>zzzmidmiss</td>\n",
       "      <td>2012</td>\n",
       "      <td>14467.0</td>\n",
       "    </tr>\n",
       "    <tr>\n",
       "      <th>772335</th>\n",
       "      <td>zzzmidmiss</td>\n",
       "      <td>2013</td>\n",
       "      <td>423.0</td>\n",
       "    </tr>\n",
       "    <tr>\n",
       "      <th>772336</th>\n",
       "      <td>zzzmidmiss</td>\n",
       "      <td>2014</td>\n",
       "      <td>194.0</td>\n",
       "    </tr>\n",
       "    <tr>\n",
       "      <th>772337</th>\n",
       "      <td>zzzmidmiss</td>\n",
       "      <td>2016</td>\n",
       "      <td>0.0</td>\n",
       "    </tr>\n",
       "  </tbody>\n",
       "</table>\n",
       "<p>772338 rows × 3 columns</p>\n",
       "</div>"
      ],
      "text/plain": [
       "           user_id  year  playtime_year\n",
       "0          --000--  2006         1850.0\n",
       "1          --000--  2009         5329.0\n",
       "2          --000--  2010           66.0\n",
       "3          --000--  2011        15564.0\n",
       "4          --000--  2012       118326.0\n",
       "...            ...   ...            ...\n",
       "772333  zzzmidmiss  2011         2514.0\n",
       "772334  zzzmidmiss  2012        14467.0\n",
       "772335  zzzmidmiss  2013          423.0\n",
       "772336  zzzmidmiss  2014          194.0\n",
       "772337  zzzmidmiss  2016            0.0\n",
       "\n",
       "[772338 rows x 3 columns]"
      ]
     },
     "execution_count": 85,
     "metadata": {},
     "output_type": "execute_result"
    }
   ],
   "source": [
    "df_UserForGenre_year"
   ]
  },
  {
   "cell_type": "code",
   "execution_count": null,
   "metadata": {},
   "outputs": [],
   "source": [
    "def UserForGenre( genero : str ): \n",
    "    #Debe devolver el usuario que acumula más horas jugadas para el género dado \n",
    "    # y una lista de la acumulación de horas jugadas por año de lanzamiento.\n",
    "    \n",
    "    return"
   ]
  }
 ],
 "metadata": {
  "kernelspec": {
   "display_name": "Python 3",
   "language": "python",
   "name": "python3"
  },
  "language_info": {
   "codemirror_mode": {
    "name": "ipython",
    "version": 3
   },
   "file_extension": ".py",
   "mimetype": "text/x-python",
   "name": "python",
   "nbconvert_exporter": "python",
   "pygments_lexer": "ipython3",
   "version": "3.11.0"
  }
 },
 "nbformat": 4,
 "nbformat_minor": 2
}
