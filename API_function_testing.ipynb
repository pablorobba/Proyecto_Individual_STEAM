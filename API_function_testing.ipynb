{
 "cells": [
  {
   "cell_type": "markdown",
   "metadata": {},
   "source": [
    "# API Function testing"
   ]
  },
  {
   "cell_type": "markdown",
   "metadata": {},
   "source": [
    "Here we are going to create and test the functions for the API to see if they work properly"
   ]
  },
  {
   "cell_type": "code",
   "execution_count": 251,
   "metadata": {},
   "outputs": [
    {
     "name": "stdout",
     "output_type": "stream",
     "text": [
      "The autoreload extension is already loaded. To reload it, use:\n",
      "  %reload_ext autoreload\n"
     ]
    }
   ],
   "source": [
    "import pandas as pd\n",
    "import numpy as np\n",
    "%load_ext autoreload\n",
    "%autoreload 2"
   ]
  },
  {
   "cell_type": "code",
   "execution_count": 252,
   "metadata": {},
   "outputs": [],
   "source": [
    "df_developer = pd.read_csv(r\"Api_DataFrame\\developer.csv\")\n",
    "df_userdata = pd.read_csv(r\"Api_DataFrame\\userdata.csv\")\n",
    "df_best_developer_year= pd.read_csv(r\"Api_DataFrame/best_developer_year.csv\")\n",
    "df_UserForGenre_genre = pd.read_csv(r\"Api_DataFrame/UserForGenre_genre.csv\")\n",
    "df_UserForGenre_year = pd.read_csv(r\"Api_DataFrame\\UserForGenre_year.csv\")\n",
    "df_developer_reviews_analysis = pd.read_csv(r\"Api_DataFrame\\developer_reviews_analysis.csv\")"
   ]
  },
  {
   "cell_type": "markdown",
   "metadata": {},
   "source": [
    "We can make two functions, one to make an array, other to make a list. Since the arrays are better optimized, we will use an array"
   ]
  },
  {
   "cell_type": "code",
   "execution_count": 253,
   "metadata": {},
   "outputs": [],
   "source": [
    "#this shows a list\n",
    "def developer(developer: str):\n",
    "    \"\"\"This function shows the number of items and the percentage by year,\n",
    "    by developer\n",
    "\n",
    "    Args:\n",
    "        developer (str): recibe el nombre de una empresa desarrolladora como cadena\n",
    "    \"\"\"\n",
    "    aux = df_developer[[\"Year\", \"Total Items\", \"Percentage of Zero Price\", \"Developer\"]]\n",
    "    mask = aux.Developer == developer\n",
    "    aux = df_developer[mask]\n",
    "    \n",
    "    years = aux[\"Year\"].values\n",
    "    num_items = aux[\"Total Items\"].values\n",
    "    percent_free_content = aux[\"Percentage of Zero Price\"].values\n",
    "    \n",
    "    result = {\"Year\": years.tolist(), \"Number of items\": num_items.tolist(), \"% of Free content\": percent_free_content.tolist()}\n",
    "    return result\n"
   ]
  },
  {
   "cell_type": "code",
   "execution_count": 254,
   "metadata": {},
   "outputs": [
    {
     "data": {
      "text/plain": [
       "{'Year': [1998,\n",
       "  1999,\n",
       "  2000,\n",
       "  2001,\n",
       "  2003,\n",
       "  2004,\n",
       "  2005,\n",
       "  2006,\n",
       "  2007,\n",
       "  2008,\n",
       "  2009,\n",
       "  2010,\n",
       "  2011,\n",
       "  2012],\n",
       " 'Number of items': [1454493,\n",
       "  1227537,\n",
       "  2146498,\n",
       "  683753,\n",
       "  716398,\n",
       "  10260415,\n",
       "  2821935,\n",
       "  4284788,\n",
       "  4738919,\n",
       "  1188147,\n",
       "  3952228,\n",
       "  887846,\n",
       "  3149443,\n",
       "  4120089],\n",
       " '% of Free content': [0.0,\n",
       "  0.0,\n",
       "  0.0,\n",
       "  0.0,\n",
       "  0.0,\n",
       "  0.0,\n",
       "  0.6949841155093933,\n",
       "  0.0,\n",
       "  0.0,\n",
       "  0.0,\n",
       "  0.0,\n",
       "  0.0,\n",
       "  0.0,\n",
       "  0.0]}"
      ]
     },
     "execution_count": 254,
     "metadata": {},
     "output_type": "execute_result"
    }
   ],
   "source": [
    "developer(\"Valve\")"
   ]
  },
  {
   "cell_type": "code",
   "execution_count": 255,
   "metadata": {},
   "outputs": [],
   "source": [
    "#and this an array\n",
    "def developer(developer : str):\n",
    "    \"\"\"This function shows the number of items and the percentage by year, \n",
    "    by developer \n",
    "\n",
    "    Args:\n",
    "        developer (str): recives the name of a developer company as a string\n",
    "    \"\"\"\n",
    "    aux = df_developer[[\"Year\",\"Total Items\",\"Percentage of Zero Price\",\"Developer\"]]\n",
    "    mask = aux.Developer == developer\n",
    "    aux = df_developer[mask]\n",
    "    dictionary = {\"Year\": aux[\"Year\"].values, \"Number of items\": aux[\"Total Items\"].values,\n",
    "                  \"% of Free content\": aux[\"Percentage of Zero Price\"].values} \n",
    "    return dictionary"
   ]
  },
  {
   "cell_type": "code",
   "execution_count": 256,
   "metadata": {},
   "outputs": [
    {
     "data": {
      "text/plain": [
       "{'Year': array([2016], dtype=int64),\n",
       " 'Number of items': array([47434], dtype=int64),\n",
       " '% of Free content': array([0.13281612])}"
      ]
     },
     "execution_count": 256,
     "metadata": {},
     "output_type": "execute_result"
    }
   ],
   "source": [
    "developer('Mechanical Boss')"
   ]
  },
  {
   "cell_type": "code",
   "execution_count": 257,
   "metadata": {},
   "outputs": [],
   "source": [
    "def userdata(User_id : str):  \n",
    "    \"\"\"this function returns the money spent by the user \n",
    "    \n",
    "        Args: \n",
    "            User_id (str): takes for argument his username as a string\n",
    "    \"\"\"\n",
    "    mask = df_userdata[\"user_id\"] == User_id\n",
    "    df_userdata2 = df_userdata[mask]\n",
    "    diccionary = {\"User id\": df_userdata2[\"user_id\"].values[0], \n",
    "                  \"Money spent\": df_userdata2[\"money_spent\"].values[0],\n",
    "                  \"recommendation %\": df_userdata2[\"percentage_reviews\"].values[0],\n",
    "                  \"amount of items\":df_userdata2[\"items_count\"].values[0]}\n",
    "    return diccionary"
   ]
  },
  {
   "cell_type": "code",
   "execution_count": 258,
   "metadata": {},
   "outputs": [
    {
     "data": {
      "text/plain": [
       "{'User id': '-Zovix-',\n",
       " 'Money spent': 13326.11,\n",
       " 'recommendation %': 100.0,\n",
       " 'amount of items': 552941.0}"
      ]
     },
     "execution_count": 258,
     "metadata": {},
     "output_type": "execute_result"
    }
   ],
   "source": [
    "userdata(\"-Zovix-\")"
   ]
  },
  {
   "cell_type": "code",
   "execution_count": 259,
   "metadata": {},
   "outputs": [
    {
     "data": {
      "text/html": [
       "<div>\n",
       "<style scoped>\n",
       "    .dataframe tbody tr th:only-of-type {\n",
       "        vertical-align: middle;\n",
       "    }\n",
       "\n",
       "    .dataframe tbody tr th {\n",
       "        vertical-align: top;\n",
       "    }\n",
       "\n",
       "    .dataframe thead th {\n",
       "        text-align: right;\n",
       "    }\n",
       "</style>\n",
       "<table border=\"1\" class=\"dataframe\">\n",
       "  <thead>\n",
       "    <tr style=\"text-align: right;\">\n",
       "      <th></th>\n",
       "      <th>genre</th>\n",
       "      <th>user_id</th>\n",
       "      <th>playtime_genre</th>\n",
       "    </tr>\n",
       "  </thead>\n",
       "  <tbody>\n",
       "    <tr>\n",
       "      <th>0</th>\n",
       "      <td>1980s</td>\n",
       "      <td>-Mad-</td>\n",
       "      <td>0.0</td>\n",
       "    </tr>\n",
       "  </tbody>\n",
       "</table>\n",
       "</div>"
      ],
      "text/plain": [
       "   genre user_id  playtime_genre\n",
       "0  1980s   -Mad-             0.0"
      ]
     },
     "execution_count": 259,
     "metadata": {},
     "output_type": "execute_result"
    }
   ],
   "source": [
    "df_UserForGenre_genre.head(1)"
   ]
  },
  {
   "cell_type": "code",
   "execution_count": 260,
   "metadata": {},
   "outputs": [
    {
     "name": "stdout",
     "output_type": "stream",
     "text": [
      "<class 'pandas.core.frame.DataFrame'>\n",
      "RangeIndex: 772338 entries, 0 to 772337\n",
      "Data columns (total 3 columns):\n",
      " #   Column         Non-Null Count   Dtype  \n",
      "---  ------         --------------   -----  \n",
      " 0   user_id        772338 non-null  object \n",
      " 1   year           772338 non-null  int64  \n",
      " 2   playtime_year  772338 non-null  float64\n",
      "dtypes: float64(1), int64(1), object(1)\n",
      "memory usage: 17.7+ MB\n"
     ]
    }
   ],
   "source": [
    "df_UserForGenre_year.info()"
   ]
  },
  {
   "cell_type": "code",
   "execution_count": 261,
   "metadata": {},
   "outputs": [],
   "source": [
    "def UserForGenre( genre : str ): \n",
    "    \"\"\"function that gives the user with more hours played by genre, and his hours played by year\n",
    "    Args:\n",
    "        genre (str): genre that you want to ask\n",
    "    Returns:\n",
    "        a diccionary with the values\n",
    "    \"\"\"\n",
    "    mask = df_UserForGenre_genre[\"genre\"] == genre      #first mask so we can save the argument given\n",
    "    df_UserForGenre_genre2 = df_UserForGenre_genre[mask]    \n",
    "    \n",
    "    max_value = df_UserForGenre_genre2[\"playtime_genre\"].max()  #to discover the max value\n",
    "    mask2 = df_UserForGenre_genre2[\"playtime_genre\"] == max_value\n",
    "    \n",
    "    df_UserForGenre_genre3 = df_UserForGenre_genre2[mask2]\n",
    "    user_id = df_UserForGenre_genre3[\"user_id\"].values[0]       # variable made to save the user_id who played most\n",
    "    mask3 = df_UserForGenre_year[\"user_id\"]  == user_id         #we make a mask with the user id\n",
    "    df_UserForGenre_year2 = df_UserForGenre_year[mask3]         \n",
    "    df_UserForGenre_year3 = df_UserForGenre_year2[[\"year\",\"playtime_year\"]]     #create a new df with  the columns we need\n",
    "    df_UserForGenre_year3 = df_UserForGenre_year3.astype(str)               #put as a str so it dont take the years and the hours as floats, and express them in decimal values\n",
    "    \n",
    "    dictionary2 = {f\"user with most hour played in the genre,{genre}\" : user_id,\n",
    "                   \"hours played\": df_UserForGenre_year3.values.tolist(),\n",
    "                  }\n",
    "    \n",
    "    return dictionary2"
   ]
  },
  {
   "cell_type": "code",
   "execution_count": 262,
   "metadata": {},
   "outputs": [
    {
     "data": {
      "text/plain": [
       "{'user with most hour played in the genre,1980s': '76561198042170355',\n",
       " 'hours played': [['1988', '0.0'],\n",
       "  ['1992', '1074.0'],\n",
       "  ['1997', '9965.0'],\n",
       "  ['1998', '0.0'],\n",
       "  ['1999', '1486.0'],\n",
       "  ['2000', '70.0'],\n",
       "  ['2001', '15.0'],\n",
       "  ['2002', '0.0'],\n",
       "  ['2003', '2562.0'],\n",
       "  ['2004', '16932.0'],\n",
       "  ['2005', '2029.0'],\n",
       "  ['2006', '4954.0'],\n",
       "  ['2007', '4930.0'],\n",
       "  ['2008', '61200.0'],\n",
       "  ['2009', '37449.0'],\n",
       "  ['2010', '236775.0'],\n",
       "  ['2011', '49944.0'],\n",
       "  ['2012', '104807.0'],\n",
       "  ['2013', '220402.0'],\n",
       "  ['2014', '89388.0'],\n",
       "  ['2015', '236157.0'],\n",
       "  ['2016', '19142.0'],\n",
       "  ['2017', '67725.0']]}"
      ]
     },
     "execution_count": 262,
     "metadata": {},
     "output_type": "execute_result"
    }
   ],
   "source": [
    "UserForGenre(\"1980s\")"
   ]
  },
  {
   "cell_type": "code",
   "execution_count": 263,
   "metadata": {},
   "outputs": [],
   "source": [
    "def best_developer_year( year : int ): \n",
    "    #Devuelve el top 3 de desarrolladores con juegos MÁS recomendados por usuarios para el año dado. \n",
    "    # (reviews.recommend = True y comentarios positivos)\n",
    "    \n",
    "    mask = df_best_developer_year[\"year\"] == year       #we filter by year first, so we use less memory\n",
    "    df_bd_year = df_best_developer_year[mask]\n",
    "    df_bd_year.sort_values(by=[\"sentiment_analysis\",\"recommend\"], #it's sorted by the number of recommend by first\n",
    "                           ascending=[False, False],               # criteria, and the sentiment analysis as second\n",
    "                           inplace= True)\n",
    "    df_bd_year.reset_index(drop = True, inplace= True)\n",
    "    developer = df_bd_year[\"developer\"]\n",
    "    dictionary = [{\"First\": developer[0]},{\"Second\": developer[1]},{\"Third\": developer[2]}]\n",
    "    \n",
    "    return dictionary"
   ]
  },
  {
   "cell_type": "code",
   "execution_count": 264,
   "metadata": {},
   "outputs": [
    {
     "name": "stderr",
     "output_type": "stream",
     "text": [
      "C:\\Users\\Pablo\\AppData\\Local\\Temp\\ipykernel_9788\\2676142777.py:7: SettingWithCopyWarning: \n",
      "A value is trying to be set on a copy of a slice from a DataFrame\n",
      "\n",
      "See the caveats in the documentation: https://pandas.pydata.org/pandas-docs/stable/user_guide/indexing.html#returning-a-view-versus-a-copy\n",
      "  df_bd_year.sort_values(by=[\"sentiment_analysis\",\"recommend\"], #it's sorted by the number of recommend by first\n"
     ]
    },
    {
     "data": {
      "text/plain": [
       "[{'First': 'Psyonix, Inc.'},\n",
       " {'Second': 'Rockstar North'},\n",
       " {'Third': 'Playsaurus'}]"
      ]
     },
     "execution_count": 264,
     "metadata": {},
     "output_type": "execute_result"
    }
   ],
   "source": [
    "best_developer_year(2015)"
   ]
  },
  {
   "cell_type": "code",
   "execution_count": 265,
   "metadata": {},
   "outputs": [],
   "source": [
    "def developer_reviews_analysis(developer : str ): \n",
    "    #Según el desarrollador, \n",
    "    # se devuelve un diccionario con el nombre del desarrollador como llave \n",
    "    # y una lista con la cantidad total de registros de reseñas de usuarios \n",
    "    # que se encuentren categorizados con un análisis de sentimiento como valor positivo o negativo.\n",
    "    mask = df_developer_reviews_analysis[\"developer\"] == developer\n",
    "    df_developer_reviews_analysis2 = df_developer_reviews_analysis[mask]\n",
    "    dev = df_developer_reviews_analysis2.developer.values[0]\n",
    "    negative = \"Negative\", df_developer_reviews_analysis2[\"negative reviews\"].values[0]\n",
    "    positive = \"Positive\", df_developer_reviews_analysis2[\"positive reviews\"].values[0]\n",
    "    dictionary = {dev :[negative,positive] }\n",
    "    \n",
    "    return dictionary\n",
    "    "
   ]
  },
  {
   "cell_type": "code",
   "execution_count": 266,
   "metadata": {},
   "outputs": [
    {
     "data": {
      "text/plain": [
       "{'GSC Game World': [('Negative', 6), ('Positive', 0.0)]}"
      ]
     },
     "execution_count": 266,
     "metadata": {},
     "output_type": "execute_result"
    }
   ],
   "source": [
    "developer_reviews_analysis(\"GSC Game World\")"
   ]
  }
 ],
 "metadata": {
  "kernelspec": {
   "display_name": "Python 3",
   "language": "python",
   "name": "python3"
  },
  "language_info": {
   "codemirror_mode": {
    "name": "ipython",
    "version": 3
   },
   "file_extension": ".py",
   "mimetype": "text/x-python",
   "name": "python",
   "nbconvert_exporter": "python",
   "pygments_lexer": "ipython3",
   "version": "3.11.0"
  }
 },
 "nbformat": 4,
 "nbformat_minor": 2
}
