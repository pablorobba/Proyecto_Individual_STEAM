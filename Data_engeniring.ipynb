{
 "cells": [
  {
   "cell_type": "markdown",
   "metadata": {},
   "source": [
    "1) Importamos las librerias"
   ]
  },
  {
   "cell_type": "code",
   "execution_count": 2,
   "metadata": {},
   "outputs": [],
   "source": [
    "import pandas as pd\n",
    "import numpy as np\n",
    "import json\n",
    "import ast"
   ]
  },
  {
   "cell_type": "markdown",
   "metadata": {},
   "source": [
    "1) Importamos los json"
   ]
  },
  {
   "cell_type": "code",
   "execution_count": 3,
   "metadata": {},
   "outputs": [],
   "source": [
    "df_games = pd.read_json(r'Datasets\\output_steam_games.json' ,lines=True)"
   ]
  },
  {
   "cell_type": "code",
   "execution_count": 4,
   "metadata": {},
   "outputs": [],
   "source": [
    "data_list = []        # Lista para almacenar los diccionarios JSON de cada línea\n",
    "\n",
    "file_path = r\"Datasets\\australian_user_reviews.json\"\n",
    "\n",
    "# Abrir el archivo y procesar cada línea\n",
    "with open(file_path, 'r', encoding='utf-8') as file:\n",
    "    for line in file:\n",
    "        try:\n",
    "            # Usar ast.literal_eval para convertir la línea en un diccionario\n",
    "            json_data = ast.literal_eval(line)\n",
    "            data_list.append(json_data)\n",
    "        except ValueError as e:\n",
    "            print(f\"Error en la línea: {line}\")\n",
    "            continue\n",
    "\n",
    "# Crear un DataFrame a partir de la lista de diccionarios\n",
    "df_user_reviews = pd.DataFrame(data_list)"
   ]
  },
  {
   "cell_type": "code",
   "execution_count": 5,
   "metadata": {},
   "outputs": [],
   "source": [
    "data_list = []   # Lista para almacenar los diccionarios JSON de cada línea\n",
    "\n",
    "file_path = r\"Datasets\\australian_users_items.json\"\n",
    "\n",
    "# Abrir el archivo y procesar cada línea\n",
    "with open(file_path, 'r', encoding='utf-8') as file:\n",
    "    for line in file:\n",
    "        try:\n",
    "            # Usar ast.literal_eval para convertir la línea en un diccionario\n",
    "            json_data = ast.literal_eval(line)\n",
    "            data_list.append(json_data)\n",
    "        except ValueError as e:\n",
    "            print(f\"Error en la línea: {line}\")\n",
    "            continue\n",
    "\n",
    "df_user_items = pd.DataFrame(data_list)\n",
    "\n",
    "#revisar que hace está funcion xd"
   ]
  },
  {
   "cell_type": "markdown",
   "metadata": {},
   "source": [
    "Desanidamos los datasets anidados"
   ]
  },
  {
   "cell_type": "code",
   "execution_count": 6,
   "metadata": {},
   "outputs": [],
   "source": [
    "df_user_reviews_desc = df_user_reviews.explode(['reviews']) #descomponemos la columna reviews\n",
    "df_reviews_series = df_user_reviews_desc['reviews'].apply(pd.Series) #creamos una serie a partir de ella\n",
    "df_user_reviews = pd.concat([df_user_reviews_desc, df_reviews_series], axis=1) #creamos el dataframe definitivo \n",
    "                                                                            #y despues borramos la columna que quedó de más\n",
    "df_user_reviews.drop('reviews', axis=1, inplace = True)"
   ]
  },
  {
   "cell_type": "code",
   "execution_count": 7,
   "metadata": {},
   "outputs": [],
   "source": [
    "#hacemos maso menos lo mismo, pero usamos json_normalize porque de la otra manera da error\n",
    "df_user_items_desc = df_user_items.explode([\"items\"])\n",
    "df_user_items_desc2 = pd.json_normalize(df_user_items_desc['items']).set_index(df_user_items_desc['items'].index)\n",
    "df_user_items= pd.concat([df_user_items_desc2, df_user_items_desc], axis=1)"
   ]
  },
  {
   "cell_type": "markdown",
   "metadata": {},
   "source": [
    "Borramos todas las filas que esten totalmente vacias"
   ]
  },
  {
   "cell_type": "code",
   "execution_count": 10,
   "metadata": {},
   "outputs": [
    {
     "name": "stdout",
     "output_type": "stream",
     "text": [
      "la cantidad de filas de games son 120445\n",
      "la cantidad de filas de items son 5170015\n",
      "la cantidad de filas de reviews son 59333\n"
     ]
    }
   ],
   "source": [
    "print(\"la cantidad de filas de games son\", df_games.shape[0])\n",
    "print(\"la cantidad de filas de items son\", df_user_items.shape[0])\n",
    "print(\"la cantidad de filas de reviews son\", df_user_reviews.shape[0])"
   ]
  },
  {
   "cell_type": "code",
   "execution_count": 11,
   "metadata": {},
   "outputs": [],
   "source": [
    "df_games = df_games.dropna(how =\"all\")\n",
    "df_user_reviews = df_user_reviews.dropna(how =\"all\")\n",
    "df_user_items = df_user_items.dropna(how =\"all\")"
   ]
  },
  {
   "cell_type": "code",
   "execution_count": 12,
   "metadata": {},
   "outputs": [
    {
     "name": "stdout",
     "output_type": "stream",
     "text": [
      "la cantidad de filas de games son 32135\n",
      "la cantidad de filas de items son 5170015\n",
      "la cantidad de filas de reviews son 59333\n"
     ]
    }
   ],
   "source": [
    "print(\"la cantidad de filas de games son\", df_games.shape[0])\n",
    "print(\"la cantidad de filas de items son\", df_user_items.shape[0])\n",
    "print(\"la cantidad de filas de reviews son\", df_user_reviews.shape[0])"
   ]
  }
 ],
 "metadata": {
  "kernelspec": {
   "display_name": "Python 3",
   "language": "python",
   "name": "python3"
  },
  "language_info": {
   "codemirror_mode": {
    "name": "ipython",
    "version": 3
   },
   "file_extension": ".py",
   "mimetype": "text/x-python",
   "name": "python",
   "nbconvert_exporter": "python",
   "pygments_lexer": "ipython3",
   "version": "3.11.0"
  }
 },
 "nbformat": 4,
 "nbformat_minor": 2
}
