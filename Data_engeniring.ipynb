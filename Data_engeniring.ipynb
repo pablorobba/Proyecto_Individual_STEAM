{
 "cells": [
  {
   "cell_type": "markdown",
   "metadata": {},
   "source": [
    "1) Importamos las librerias"
   ]
  },
  {
   "cell_type": "code",
   "execution_count": 1,
   "metadata": {},
   "outputs": [],
   "source": [
    "import pandas as pd\n",
    "import numpy as np\n",
    "import json\n",
    "import ast"
   ]
  },
  {
   "cell_type": "markdown",
   "metadata": {},
   "source": [
    "1) Importamos los json"
   ]
  },
  {
   "cell_type": "code",
   "execution_count": 2,
   "metadata": {},
   "outputs": [],
   "source": [
    "df_games = pd.read_json(r'Datasets\\output_steam_games.json' ,lines=True)"
   ]
  },
  {
   "cell_type": "code",
   "execution_count": 3,
   "metadata": {},
   "outputs": [],
   "source": [
    "data_list = []        # Lista para almacenar los diccionarios JSON de cada línea\n",
    "\n",
    "file_path = r\"Datasets\\australian_user_reviews.json\"\n",
    "\n",
    "# Abrir el archivo y procesar cada línea\n",
    "with open(file_path, 'r', encoding='utf-8') as file:\n",
    "    for line in file:\n",
    "        try:\n",
    "            # Usar ast.literal_eval para convertir la línea en un diccionario\n",
    "            json_data = ast.literal_eval(line)\n",
    "            data_list.append(json_data)\n",
    "        except ValueError as e:\n",
    "            print(f\"Error en la línea: {line}\")\n",
    "            continue\n",
    "\n",
    "# Crear un DataFrame a partir de la lista de diccionarios\n",
    "df_user_reviews = pd.DataFrame(data_list)"
   ]
  },
  {
   "cell_type": "code",
   "execution_count": 4,
   "metadata": {},
   "outputs": [],
   "source": [
    "data_list = []   # Lista para almacenar los diccionarios JSON de cada línea\n",
    "\n",
    "file_path = r\"Datasets\\australian_users_items.json\"\n",
    "\n",
    "# Abrir el archivo y procesar cada línea\n",
    "with open(file_path, 'r', encoding='utf-8') as file:\n",
    "    for line in file:\n",
    "        try:\n",
    "            # Usar ast.literal_eval para convertir la línea en un diccionario\n",
    "            json_data = ast.literal_eval(line)\n",
    "            data_list.append(json_data)\n",
    "        except ValueError as e:\n",
    "            print(f\"Error en la línea: {line}\")\n",
    "            continue\n",
    "\n",
    "df_user_items = pd.DataFrame(data_list)\n",
    "\n",
    "#revisar que hace está funcion xd"
   ]
  },
  {
   "cell_type": "code",
   "execution_count": 5,
   "metadata": {},
   "outputs": [
    {
     "name": "stdout",
     "output_type": "stream",
     "text": [
      "la cantidad de filas de games son 120445\n",
      "la cantidad de filas de items son 88310\n",
      "la cantidad de filas de reviews son 25799\n"
     ]
    }
   ],
   "source": [
    "print(\"la cantidad de filas de games son\", df_games.shape[0])\n",
    "print(\"la cantidad de filas de items son\", df_user_items.shape[0])\n",
    "print(\"la cantidad de filas de reviews son\", df_user_reviews.shape[0])"
   ]
  },
  {
   "cell_type": "markdown",
   "metadata": {},
   "source": [
    "Borramos todas las filas que esten totalmente vacias"
   ]
  },
  {
   "cell_type": "code",
   "execution_count": 6,
   "metadata": {},
   "outputs": [],
   "source": [
    "df_games = df_games.dropna(how =\"all\")\n",
    "df_user_reviews = df_user_reviews.dropna(how =\"all\")\n",
    "df_user_items = df_user_items.dropna(how =\"all\")"
   ]
  },
  {
   "cell_type": "code",
   "execution_count": 7,
   "metadata": {},
   "outputs": [
    {
     "name": "stdout",
     "output_type": "stream",
     "text": [
      "la cantidad de filas de games son 32135\n",
      "la cantidad de filas de items son 88310\n",
      "la cantidad de filas de reviews son 25799\n"
     ]
    }
   ],
   "source": [
    "print(\"la cantidad de filas de games son\", df_games.shape[0])\n",
    "print(\"la cantidad de filas de items son\", df_user_items.shape[0])\n",
    "print(\"la cantidad de filas de reviews son\", df_user_reviews.shape[0])\n",
    "#vemos que había una enorme cantidad de filas vacias en df_games"
   ]
  },
  {
   "cell_type": "markdown",
   "metadata": {},
   "source": [
    "Desanidamos los datasets anidados"
   ]
  },
  {
   "cell_type": "code",
   "execution_count": 8,
   "metadata": {},
   "outputs": [],
   "source": [
    "df_user_reviews_desc = df_user_reviews.explode(['reviews']) #descomponemos la columna reviews\n",
    "df_reviews_series = df_user_reviews_desc['reviews'].apply(pd.Series) #creamos una serie a partir de ella\n",
    "data_reviews = pd.concat([df_user_reviews_desc, df_reviews_series], axis=1) #creamos el dataframe definitivo \n",
    "                                                                            #y despues borramos la columna que quedó de más\n",
    "data_reviews.drop('reviews', axis=1, inplace = True)"
   ]
  },
  {
   "cell_type": "code",
   "execution_count": 66,
   "metadata": {},
   "outputs": [],
   "source": [
    "df_user_items_desc = df_user_items.explode([\"items\"])\n",
    "df_user_items_desc2 = pd.json_normalize(df_user_items_desc['items']).set_index(df_user_items_desc['items'].index)\n",
    "df_user_items= pd.concat([df_user_items_desc2, df_user_items_desc], axis=1)"
   ]
  },
  {
   "cell_type": "code",
   "execution_count": 67,
   "metadata": {},
   "outputs": [
    {
     "data": {
      "text/html": [
       "<div>\n",
       "<style scoped>\n",
       "    .dataframe tbody tr th:only-of-type {\n",
       "        vertical-align: middle;\n",
       "    }\n",
       "\n",
       "    .dataframe tbody tr th {\n",
       "        vertical-align: top;\n",
       "    }\n",
       "\n",
       "    .dataframe thead th {\n",
       "        text-align: right;\n",
       "    }\n",
       "</style>\n",
       "<table border=\"1\" class=\"dataframe\">\n",
       "  <thead>\n",
       "    <tr style=\"text-align: right;\">\n",
       "      <th></th>\n",
       "      <th>item_id</th>\n",
       "      <th>item_name</th>\n",
       "      <th>playtime_forever</th>\n",
       "      <th>playtime_2weeks</th>\n",
       "      <th>user_id</th>\n",
       "      <th>items_count</th>\n",
       "      <th>steam_id</th>\n",
       "      <th>user_url</th>\n",
       "      <th>items</th>\n",
       "    </tr>\n",
       "  </thead>\n",
       "  <tbody>\n",
       "    <tr>\n",
       "      <th>0</th>\n",
       "      <td>10</td>\n",
       "      <td>Counter-Strike</td>\n",
       "      <td>6.0</td>\n",
       "      <td>0.0</td>\n",
       "      <td>76561197970982479</td>\n",
       "      <td>277</td>\n",
       "      <td>76561197970982479</td>\n",
       "      <td>http://steamcommunity.com/profiles/76561197970...</td>\n",
       "      <td>item_id</td>\n",
       "    </tr>\n",
       "    <tr>\n",
       "      <th>0</th>\n",
       "      <td>10</td>\n",
       "      <td>Counter-Strike</td>\n",
       "      <td>6.0</td>\n",
       "      <td>0.0</td>\n",
       "      <td>76561197970982479</td>\n",
       "      <td>277</td>\n",
       "      <td>76561197970982479</td>\n",
       "      <td>http://steamcommunity.com/profiles/76561197970...</td>\n",
       "      <td>item_name</td>\n",
       "    </tr>\n",
       "    <tr>\n",
       "      <th>0</th>\n",
       "      <td>10</td>\n",
       "      <td>Counter-Strike</td>\n",
       "      <td>6.0</td>\n",
       "      <td>0.0</td>\n",
       "      <td>76561197970982479</td>\n",
       "      <td>277</td>\n",
       "      <td>76561197970982479</td>\n",
       "      <td>http://steamcommunity.com/profiles/76561197970...</td>\n",
       "      <td>playtime_forever</td>\n",
       "    </tr>\n",
       "    <tr>\n",
       "      <th>0</th>\n",
       "      <td>10</td>\n",
       "      <td>Counter-Strike</td>\n",
       "      <td>6.0</td>\n",
       "      <td>0.0</td>\n",
       "      <td>76561197970982479</td>\n",
       "      <td>277</td>\n",
       "      <td>76561197970982479</td>\n",
       "      <td>http://steamcommunity.com/profiles/76561197970...</td>\n",
       "      <td>playtime_2weeks</td>\n",
       "    </tr>\n",
       "    <tr>\n",
       "      <th>0</th>\n",
       "      <td>20</td>\n",
       "      <td>Team Fortress Classic</td>\n",
       "      <td>0.0</td>\n",
       "      <td>0.0</td>\n",
       "      <td>76561197970982479</td>\n",
       "      <td>277</td>\n",
       "      <td>76561197970982479</td>\n",
       "      <td>http://steamcommunity.com/profiles/76561197970...</td>\n",
       "      <td>item_id</td>\n",
       "    </tr>\n",
       "    <tr>\n",
       "      <th>...</th>\n",
       "      <td>...</td>\n",
       "      <td>...</td>\n",
       "      <td>...</td>\n",
       "      <td>...</td>\n",
       "      <td>...</td>\n",
       "      <td>...</td>\n",
       "      <td>...</td>\n",
       "      <td>...</td>\n",
       "      <td>...</td>\n",
       "    </tr>\n",
       "    <tr>\n",
       "      <th>88308</th>\n",
       "      <td>519140</td>\n",
       "      <td>Minds Eyes</td>\n",
       "      <td>3.0</td>\n",
       "      <td>3.0</td>\n",
       "      <td>76561198329548331</td>\n",
       "      <td>7</td>\n",
       "      <td>76561198329548331</td>\n",
       "      <td>http://steamcommunity.com/profiles/76561198329...</td>\n",
       "      <td>item_id</td>\n",
       "    </tr>\n",
       "    <tr>\n",
       "      <th>88308</th>\n",
       "      <td>519140</td>\n",
       "      <td>Minds Eyes</td>\n",
       "      <td>3.0</td>\n",
       "      <td>3.0</td>\n",
       "      <td>76561198329548331</td>\n",
       "      <td>7</td>\n",
       "      <td>76561198329548331</td>\n",
       "      <td>http://steamcommunity.com/profiles/76561198329...</td>\n",
       "      <td>item_name</td>\n",
       "    </tr>\n",
       "    <tr>\n",
       "      <th>88308</th>\n",
       "      <td>519140</td>\n",
       "      <td>Minds Eyes</td>\n",
       "      <td>3.0</td>\n",
       "      <td>3.0</td>\n",
       "      <td>76561198329548331</td>\n",
       "      <td>7</td>\n",
       "      <td>76561198329548331</td>\n",
       "      <td>http://steamcommunity.com/profiles/76561198329...</td>\n",
       "      <td>playtime_forever</td>\n",
       "    </tr>\n",
       "    <tr>\n",
       "      <th>88308</th>\n",
       "      <td>519140</td>\n",
       "      <td>Minds Eyes</td>\n",
       "      <td>3.0</td>\n",
       "      <td>3.0</td>\n",
       "      <td>76561198329548331</td>\n",
       "      <td>7</td>\n",
       "      <td>76561198329548331</td>\n",
       "      <td>http://steamcommunity.com/profiles/76561198329...</td>\n",
       "      <td>playtime_2weeks</td>\n",
       "    </tr>\n",
       "    <tr>\n",
       "      <th>88309</th>\n",
       "      <td>NaN</td>\n",
       "      <td>NaN</td>\n",
       "      <td>NaN</td>\n",
       "      <td>NaN</td>\n",
       "      <td>edward_tremethick</td>\n",
       "      <td>0</td>\n",
       "      <td>76561198331598578</td>\n",
       "      <td>http://steamcommunity.com/id/edward_tremethick</td>\n",
       "      <td>NaN</td>\n",
       "    </tr>\n",
       "  </tbody>\n",
       "</table>\n",
       "<p>20629642 rows × 9 columns</p>\n",
       "</div>"
      ],
      "text/plain": [
       "      item_id              item_name  playtime_forever  playtime_2weeks  \\\n",
       "0          10         Counter-Strike               6.0              0.0   \n",
       "0          10         Counter-Strike               6.0              0.0   \n",
       "0          10         Counter-Strike               6.0              0.0   \n",
       "0          10         Counter-Strike               6.0              0.0   \n",
       "0          20  Team Fortress Classic               0.0              0.0   \n",
       "...       ...                    ...               ...              ...   \n",
       "88308  519140             Minds Eyes               3.0              3.0   \n",
       "88308  519140             Minds Eyes               3.0              3.0   \n",
       "88308  519140             Minds Eyes               3.0              3.0   \n",
       "88308  519140             Minds Eyes               3.0              3.0   \n",
       "88309     NaN                    NaN               NaN              NaN   \n",
       "\n",
       "                 user_id  items_count           steam_id  \\\n",
       "0      76561197970982479          277  76561197970982479   \n",
       "0      76561197970982479          277  76561197970982479   \n",
       "0      76561197970982479          277  76561197970982479   \n",
       "0      76561197970982479          277  76561197970982479   \n",
       "0      76561197970982479          277  76561197970982479   \n",
       "...                  ...          ...                ...   \n",
       "88308  76561198329548331            7  76561198329548331   \n",
       "88308  76561198329548331            7  76561198329548331   \n",
       "88308  76561198329548331            7  76561198329548331   \n",
       "88308  76561198329548331            7  76561198329548331   \n",
       "88309  edward_tremethick            0  76561198331598578   \n",
       "\n",
       "                                                user_url             items  \n",
       "0      http://steamcommunity.com/profiles/76561197970...           item_id  \n",
       "0      http://steamcommunity.com/profiles/76561197970...         item_name  \n",
       "0      http://steamcommunity.com/profiles/76561197970...  playtime_forever  \n",
       "0      http://steamcommunity.com/profiles/76561197970...   playtime_2weeks  \n",
       "0      http://steamcommunity.com/profiles/76561197970...           item_id  \n",
       "...                                                  ...               ...  \n",
       "88308  http://steamcommunity.com/profiles/76561198329...           item_id  \n",
       "88308  http://steamcommunity.com/profiles/76561198329...         item_name  \n",
       "88308  http://steamcommunity.com/profiles/76561198329...  playtime_forever  \n",
       "88308  http://steamcommunity.com/profiles/76561198329...   playtime_2weeks  \n",
       "88309     http://steamcommunity.com/id/edward_tremethick               NaN  \n",
       "\n",
       "[20629642 rows x 9 columns]"
      ]
     },
     "execution_count": 67,
     "metadata": {},
     "output_type": "execute_result"
    }
   ],
   "source": [
    "df_user_items"
   ]
  }
 ],
 "metadata": {
  "kernelspec": {
   "display_name": "Python 3",
   "language": "python",
   "name": "python3"
  },
  "language_info": {
   "codemirror_mode": {
    "name": "ipython",
    "version": 3
   },
   "file_extension": ".py",
   "mimetype": "text/x-python",
   "name": "python",
   "nbconvert_exporter": "python",
   "pygments_lexer": "ipython3",
   "version": "3.11.0"
  }
 },
 "nbformat": 4,
 "nbformat_minor": 2
}
