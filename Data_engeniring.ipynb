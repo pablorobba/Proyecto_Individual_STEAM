{
 "cells": [
  {
   "cell_type": "markdown",
   "metadata": {},
   "source": [
    "1) Importamos las librerias"
   ]
  },
  {
   "cell_type": "code",
   "execution_count": 74,
   "metadata": {},
   "outputs": [],
   "source": [
    "import pandas as pd\n",
    "import numpy as np\n",
    "import json\n",
    "import ast\n",
    "import re"
   ]
  },
  {
   "cell_type": "markdown",
   "metadata": {},
   "source": [
    "1) Importamos los json"
   ]
  },
  {
   "cell_type": "code",
   "execution_count": 32,
   "metadata": {},
   "outputs": [],
   "source": [
    "df_games = pd.read_json(r'Datasets\\output_steam_games.json' ,lines=True)"
   ]
  },
  {
   "cell_type": "code",
   "execution_count": 49,
   "metadata": {},
   "outputs": [],
   "source": [
    "data_list = []        # Lista para almacenar los diccionarios JSON de cada línea\n",
    "\n",
    "file_path = r\"Datasets\\australian_user_reviews.json\"\n",
    "\n",
    "# Abrir el archivo y procesar cada línea\n",
    "with open(file_path, 'r', encoding='utf-8') as file:\n",
    "    for line in file:\n",
    "        try:\n",
    "            # Usar ast.literal_eval para convertir la línea en un diccionario\n",
    "            json_data = ast.literal_eval(line)\n",
    "            data_list.append(json_data)\n",
    "        except ValueError as e:\n",
    "            print(f\"Error en la línea: {line}\")\n",
    "            continue\n",
    "\n",
    "# Crear un DataFrame a partir de la lista de diccionarios\n",
    "df_user_reviews = pd.DataFrame(data_list)"
   ]
  },
  {
   "cell_type": "code",
   "execution_count": 34,
   "metadata": {},
   "outputs": [],
   "source": [
    "data_list = []   # Lista para almacenar los diccionarios JSON de cada línea\n",
    "\n",
    "file_path = r\"Datasets\\australian_users_items.json\"\n",
    "\n",
    "# Abrir el archivo y procesar cada línea\n",
    "with open(file_path, 'r', encoding='utf-8') as file:\n",
    "    for line in file:\n",
    "        try:\n",
    "            # Usar ast.literal_eval para convertir la línea en un diccionario\n",
    "            json_data = ast.literal_eval(line)\n",
    "            data_list.append(json_data)\n",
    "        except ValueError as e:\n",
    "            print(f\"Error en la línea: {line}\")\n",
    "            continue\n",
    "\n",
    "df_user_items = pd.DataFrame(data_list)\n",
    "\n",
    "#revisar que hace está funcion xd"
   ]
  },
  {
   "cell_type": "markdown",
   "metadata": {},
   "source": [
    "Desanidamos los datasets anidados"
   ]
  },
  {
   "cell_type": "code",
   "execution_count": null,
   "metadata": {},
   "outputs": [],
   "source": [
    "df_user_reviews_desc = df_user_reviews.explode(['reviews']) #descomponemos la columna reviews\n",
    "df_reviews_series = df_user_reviews_desc['reviews'].apply(pd.Series) #creamos una serie a partir de ella\n",
    "df_user_reviews = pd.concat([df_user_reviews_desc, df_reviews_series], axis=1) #creamos el dataframe definitivo \n",
    "                                                                            #y despues borramos la columna que quedó de más\n",
    "df_user_reviews.drop('reviews', axis=1, inplace = True)     #al estar agregada al dataframe,ya la podemos borrar"
   ]
  },
  {
   "cell_type": "code",
   "execution_count": 129,
   "metadata": {},
   "outputs": [],
   "source": [
    "df_user_items_desc = df_user_items.explode([\"items\"])\n",
    "df_user_items_desc2 = pd.json_normalize(df_user_items_desc['items']).set_index(df_user_items_desc['items'].index)\n",
    "df_user_items= pd.concat([df_user_items_desc2, df_user_items_desc], axis=1)\n",
    "df_user_items.drop('items', axis=1, inplace = True)"
   ]
  },
  {
   "cell_type": "code",
   "execution_count": 120,
   "metadata": {},
   "outputs": [],
   "source": [
    "df_games = df_games.explode([\"genres\"])\n",
    "df_games = df_games.explode([\"tags\"])\n",
    "df_games = df_games.explode([\"specs\"])"
   ]
  },
  {
   "cell_type": "code",
   "execution_count": 141,
   "metadata": {},
   "outputs": [
    {
     "data": {
      "text/html": [
       "<div>\n",
       "<style scoped>\n",
       "    .dataframe tbody tr th:only-of-type {\n",
       "        vertical-align: middle;\n",
       "    }\n",
       "\n",
       "    .dataframe tbody tr th {\n",
       "        vertical-align: top;\n",
       "    }\n",
       "\n",
       "    .dataframe thead th {\n",
       "        text-align: right;\n",
       "    }\n",
       "</style>\n",
       "<table border=\"1\" class=\"dataframe\">\n",
       "  <thead>\n",
       "    <tr style=\"text-align: right;\">\n",
       "      <th></th>\n",
       "      <th>item_id</th>\n",
       "      <th>item_name</th>\n",
       "      <th>playtime_forever</th>\n",
       "      <th>playtime_2weeks</th>\n",
       "      <th>user_id</th>\n",
       "      <th>items_count</th>\n",
       "      <th>steam_id</th>\n",
       "      <th>user_url</th>\n",
       "    </tr>\n",
       "  </thead>\n",
       "  <tbody>\n",
       "    <tr>\n",
       "      <th>0</th>\n",
       "      <td>10</td>\n",
       "      <td>Counter-Strike</td>\n",
       "      <td>6.0</td>\n",
       "      <td>0.0</td>\n",
       "      <td>76561197970982479</td>\n",
       "      <td>277</td>\n",
       "      <td>76561197970982479</td>\n",
       "      <td>http://steamcommunity.com/profiles/76561197970...</td>\n",
       "    </tr>\n",
       "    <tr>\n",
       "      <th>0</th>\n",
       "      <td>20</td>\n",
       "      <td>Team Fortress Classic</td>\n",
       "      <td>0.0</td>\n",
       "      <td>0.0</td>\n",
       "      <td>76561197970982479</td>\n",
       "      <td>277</td>\n",
       "      <td>76561197970982479</td>\n",
       "      <td>http://steamcommunity.com/profiles/76561197970...</td>\n",
       "    </tr>\n",
       "    <tr>\n",
       "      <th>0</th>\n",
       "      <td>30</td>\n",
       "      <td>Day of Defeat</td>\n",
       "      <td>7.0</td>\n",
       "      <td>0.0</td>\n",
       "      <td>76561197970982479</td>\n",
       "      <td>277</td>\n",
       "      <td>76561197970982479</td>\n",
       "      <td>http://steamcommunity.com/profiles/76561197970...</td>\n",
       "    </tr>\n",
       "    <tr>\n",
       "      <th>0</th>\n",
       "      <td>40</td>\n",
       "      <td>Deathmatch Classic</td>\n",
       "      <td>0.0</td>\n",
       "      <td>0.0</td>\n",
       "      <td>76561197970982479</td>\n",
       "      <td>277</td>\n",
       "      <td>76561197970982479</td>\n",
       "      <td>http://steamcommunity.com/profiles/76561197970...</td>\n",
       "    </tr>\n",
       "    <tr>\n",
       "      <th>0</th>\n",
       "      <td>50</td>\n",
       "      <td>Half-Life: Opposing Force</td>\n",
       "      <td>0.0</td>\n",
       "      <td>0.0</td>\n",
       "      <td>76561197970982479</td>\n",
       "      <td>277</td>\n",
       "      <td>76561197970982479</td>\n",
       "      <td>http://steamcommunity.com/profiles/76561197970...</td>\n",
       "    </tr>\n",
       "    <tr>\n",
       "      <th>...</th>\n",
       "      <td>...</td>\n",
       "      <td>...</td>\n",
       "      <td>...</td>\n",
       "      <td>...</td>\n",
       "      <td>...</td>\n",
       "      <td>...</td>\n",
       "      <td>...</td>\n",
       "      <td>...</td>\n",
       "    </tr>\n",
       "    <tr>\n",
       "      <th>88308</th>\n",
       "      <td>373330</td>\n",
       "      <td>All Is Dust</td>\n",
       "      <td>0.0</td>\n",
       "      <td>0.0</td>\n",
       "      <td>76561198329548331</td>\n",
       "      <td>7</td>\n",
       "      <td>76561198329548331</td>\n",
       "      <td>http://steamcommunity.com/profiles/76561198329...</td>\n",
       "    </tr>\n",
       "    <tr>\n",
       "      <th>88308</th>\n",
       "      <td>388490</td>\n",
       "      <td>One Way To Die: Steam Edition</td>\n",
       "      <td>3.0</td>\n",
       "      <td>3.0</td>\n",
       "      <td>76561198329548331</td>\n",
       "      <td>7</td>\n",
       "      <td>76561198329548331</td>\n",
       "      <td>http://steamcommunity.com/profiles/76561198329...</td>\n",
       "    </tr>\n",
       "    <tr>\n",
       "      <th>88308</th>\n",
       "      <td>521570</td>\n",
       "      <td>You Have 10 Seconds 2</td>\n",
       "      <td>4.0</td>\n",
       "      <td>4.0</td>\n",
       "      <td>76561198329548331</td>\n",
       "      <td>7</td>\n",
       "      <td>76561198329548331</td>\n",
       "      <td>http://steamcommunity.com/profiles/76561198329...</td>\n",
       "    </tr>\n",
       "    <tr>\n",
       "      <th>88308</th>\n",
       "      <td>519140</td>\n",
       "      <td>Minds Eyes</td>\n",
       "      <td>3.0</td>\n",
       "      <td>3.0</td>\n",
       "      <td>76561198329548331</td>\n",
       "      <td>7</td>\n",
       "      <td>76561198329548331</td>\n",
       "      <td>http://steamcommunity.com/profiles/76561198329...</td>\n",
       "    </tr>\n",
       "    <tr>\n",
       "      <th>88309</th>\n",
       "      <td>NaN</td>\n",
       "      <td>NaN</td>\n",
       "      <td>NaN</td>\n",
       "      <td>NaN</td>\n",
       "      <td>edward_tremethick</td>\n",
       "      <td>0</td>\n",
       "      <td>76561198331598578</td>\n",
       "      <td>http://steamcommunity.com/id/edward_tremethick</td>\n",
       "    </tr>\n",
       "  </tbody>\n",
       "</table>\n",
       "<p>5110819 rows × 8 columns</p>\n",
       "</div>"
      ],
      "text/plain": [
       "      item_id                      item_name  playtime_forever  \\\n",
       "0          10                 Counter-Strike               6.0   \n",
       "0          20          Team Fortress Classic               0.0   \n",
       "0          30                  Day of Defeat               7.0   \n",
       "0          40             Deathmatch Classic               0.0   \n",
       "0          50      Half-Life: Opposing Force               0.0   \n",
       "...       ...                            ...               ...   \n",
       "88308  373330                    All Is Dust               0.0   \n",
       "88308  388490  One Way To Die: Steam Edition               3.0   \n",
       "88308  521570          You Have 10 Seconds 2               4.0   \n",
       "88308  519140                     Minds Eyes               3.0   \n",
       "88309     NaN                            NaN               NaN   \n",
       "\n",
       "       playtime_2weeks            user_id  items_count           steam_id  \\\n",
       "0                  0.0  76561197970982479          277  76561197970982479   \n",
       "0                  0.0  76561197970982479          277  76561197970982479   \n",
       "0                  0.0  76561197970982479          277  76561197970982479   \n",
       "0                  0.0  76561197970982479          277  76561197970982479   \n",
       "0                  0.0  76561197970982479          277  76561197970982479   \n",
       "...                ...                ...          ...                ...   \n",
       "88308              0.0  76561198329548331            7  76561198329548331   \n",
       "88308              3.0  76561198329548331            7  76561198329548331   \n",
       "88308              4.0  76561198329548331            7  76561198329548331   \n",
       "88308              3.0  76561198329548331            7  76561198329548331   \n",
       "88309              NaN  edward_tremethick            0  76561198331598578   \n",
       "\n",
       "                                                user_url  \n",
       "0      http://steamcommunity.com/profiles/76561197970...  \n",
       "0      http://steamcommunity.com/profiles/76561197970...  \n",
       "0      http://steamcommunity.com/profiles/76561197970...  \n",
       "0      http://steamcommunity.com/profiles/76561197970...  \n",
       "0      http://steamcommunity.com/profiles/76561197970...  \n",
       "...                                                  ...  \n",
       "88308  http://steamcommunity.com/profiles/76561198329...  \n",
       "88308  http://steamcommunity.com/profiles/76561198329...  \n",
       "88308  http://steamcommunity.com/profiles/76561198329...  \n",
       "88308  http://steamcommunity.com/profiles/76561198329...  \n",
       "88309     http://steamcommunity.com/id/edward_tremethick  \n",
       "\n",
       "[5110819 rows x 8 columns]"
      ]
     },
     "execution_count": 141,
     "metadata": {},
     "output_type": "execute_result"
    }
   ],
   "source": [
    "df_user_items"
   ]
  },
  {
   "cell_type": "markdown",
   "metadata": {},
   "source": [
    "Borramos todas las filas que esten totalmente vacias y duplicados"
   ]
  },
  {
   "cell_type": "code",
   "execution_count": 134,
   "metadata": {},
   "outputs": [
    {
     "name": "stdout",
     "output_type": "stream",
     "text": [
      "la cantidad de filas de games son 2088826\n",
      "la cantidad de filas de items son 20629642\n",
      "la cantidad de filas de reviews son 59333\n"
     ]
    }
   ],
   "source": [
    "print(\"la cantidad de filas de games son\", df_games.shape[0])\n",
    "print(\"la cantidad de filas de items son\", df_user_items.shape[0])\n",
    "print(\"la cantidad de filas de reviews son\", df_user_reviews.shape[0])"
   ]
  },
  {
   "cell_type": "code",
   "execution_count": 136,
   "metadata": {},
   "outputs": [],
   "source": [
    "df_games = df_games.dropna(how =\"all\")\n",
    "df_user_reviews = df_user_reviews.dropna(how =\"all\")\n",
    "df_user_items = df_user_items.dropna(how =\"all\")\n",
    "df_user_reviews.drop(0, axis=1, inplace = True)             #borramos la columna vacia"
   ]
  },
  {
   "cell_type": "code",
   "execution_count": 138,
   "metadata": {},
   "outputs": [
    {
     "name": "stdout",
     "output_type": "stream",
     "text": [
      "la cantidad de filas de games son 2088826\n",
      "la cantidad de filas de items son 20629642\n",
      "la cantidad de filas de reviews son 59333\n"
     ]
    }
   ],
   "source": [
    "print(\"la cantidad de filas de games son\", df_games.shape[0])\n",
    "print(\"la cantidad de filas de items son\", df_user_items.shape[0])\n",
    "print(\"la cantidad de filas de reviews son\", df_user_reviews.shape[0])"
   ]
  },
  {
   "cell_type": "code",
   "execution_count": 139,
   "metadata": {},
   "outputs": [],
   "source": [
    "df_games = df_games.drop_duplicates()\n",
    "df_user_reviews = df_user_reviews.drop_duplicates()\n",
    "df_user_items = df_user_items.drop_duplicates()"
   ]
  },
  {
   "cell_type": "code",
   "execution_count": 140,
   "metadata": {},
   "outputs": [
    {
     "name": "stdout",
     "output_type": "stream",
     "text": [
      "la cantidad de filas de games son 2088826\n",
      "la cantidad de filas de items son 5110819\n",
      "la cantidad de filas de reviews son 58459\n"
     ]
    }
   ],
   "source": [
    "print(\"la cantidad de filas de games son\", df_games.shape[0])\n",
    "print(\"la cantidad de filas de items son\", df_user_items.shape[0])\n",
    "print(\"la cantidad de filas de reviews son\", df_user_reviews.shape[0])"
   ]
  }
 ],
 "metadata": {
  "kernelspec": {
   "display_name": "Python 3",
   "language": "python",
   "name": "python3"
  },
  "language_info": {
   "codemirror_mode": {
    "name": "ipython",
    "version": 3
   },
   "file_extension": ".py",
   "mimetype": "text/x-python",
   "name": "python",
   "nbconvert_exporter": "python",
   "pygments_lexer": "ipython3",
   "version": "3.11.0"
  }
 },
 "nbformat": 4,
 "nbformat_minor": 2
}
