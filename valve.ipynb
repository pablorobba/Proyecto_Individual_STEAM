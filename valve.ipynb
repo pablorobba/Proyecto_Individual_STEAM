{
 "cells": [
  {
   "cell_type": "code",
   "execution_count": 1,
   "metadata": {},
   "outputs": [],
   "source": [
    "import pandas as pd\n",
    "import numpy as np"
   ]
  },
  {
   "cell_type": "code",
   "execution_count": 2,
   "metadata": {},
   "outputs": [],
   "source": [
    "df = pd.read_csv(r\"Datasets\\user_reviews_clean.csv\")"
   ]
  },
  {
   "cell_type": "code",
   "execution_count": 5,
   "metadata": {},
   "outputs": [
    {
     "data": {
      "text/html": [
       "<div>\n",
       "<style scoped>\n",
       "    .dataframe tbody tr th:only-of-type {\n",
       "        vertical-align: middle;\n",
       "    }\n",
       "\n",
       "    .dataframe tbody tr th {\n",
       "        vertical-align: top;\n",
       "    }\n",
       "\n",
       "    .dataframe thead th {\n",
       "        text-align: right;\n",
       "    }\n",
       "</style>\n",
       "<table border=\"1\" class=\"dataframe\">\n",
       "  <thead>\n",
       "    <tr style=\"text-align: right;\">\n",
       "      <th></th>\n",
       "      <th>user_id</th>\n",
       "      <th>user_url</th>\n",
       "      <th>funny</th>\n",
       "      <th>posted</th>\n",
       "      <th>last_edited</th>\n",
       "      <th>item_id</th>\n",
       "      <th>helpful</th>\n",
       "      <th>recommend</th>\n",
       "      <th>review</th>\n",
       "    </tr>\n",
       "  </thead>\n",
       "  <tbody>\n",
       "    <tr>\n",
       "      <th>5141</th>\n",
       "      <td>fitemeirlfget</td>\n",
       "      <td>http://steamcommunity.com/id/fitemeirlfget</td>\n",
       "      <td>1 person found this review funny</td>\n",
       "      <td>Posted June 20, 2015.</td>\n",
       "      <td>NaN</td>\n",
       "      <td>60</td>\n",
       "      <td>2 of 4 people (50%) found this review helpful</td>\n",
       "      <td>True</td>\n",
       "      <td>Ricoshit is actually the worst game ever.Cance...</td>\n",
       "    </tr>\n",
       "    <tr>\n",
       "      <th>6723</th>\n",
       "      <td>sdq101</td>\n",
       "      <td>http://steamcommunity.com/id/sdq101</td>\n",
       "      <td>1 person found this review funny</td>\n",
       "      <td>Posted June 20, 2015.</td>\n",
       "      <td>Last edited June 20, 2015.</td>\n",
       "      <td>60</td>\n",
       "      <td>2 of 5 people (40%) found this review helpful</td>\n",
       "      <td>True</td>\n",
       "      <td>Step 1 : JumpStep 2 : LagStep 3 : Die One of t...</td>\n",
       "    </tr>\n",
       "  </tbody>\n",
       "</table>\n",
       "</div>"
      ],
      "text/plain": [
       "            user_id                                    user_url  \\\n",
       "5141  fitemeirlfget  http://steamcommunity.com/id/fitemeirlfget   \n",
       "6723         sdq101         http://steamcommunity.com/id/sdq101   \n",
       "\n",
       "                                 funny                 posted  \\\n",
       "5141  1 person found this review funny  Posted June 20, 2015.   \n",
       "6723  1 person found this review funny  Posted June 20, 2015.   \n",
       "\n",
       "                     last_edited  item_id  \\\n",
       "5141                         NaN       60   \n",
       "6723  Last edited June 20, 2015.       60   \n",
       "\n",
       "                                            helpful  recommend  \\\n",
       "5141  2 of 4 people (50%) found this review helpful       True   \n",
       "6723  2 of 5 people (40%) found this review helpful       True   \n",
       "\n",
       "                                                 review  \n",
       "5141  Ricoshit is actually the worst game ever.Cance...  \n",
       "6723  Step 1 : JumpStep 2 : LagStep 3 : Die One of t...  "
      ]
     },
     "execution_count": 5,
     "metadata": {},
     "output_type": "execute_result"
    }
   ],
   "source": [
    "mask = df[\"item_id\"] == 60\n",
    "df[mask]"
   ]
  }
 ],
 "metadata": {
  "kernelspec": {
   "display_name": "Python 3",
   "language": "python",
   "name": "python3"
  },
  "language_info": {
   "codemirror_mode": {
    "name": "ipython",
    "version": 3
   },
   "file_extension": ".py",
   "mimetype": "text/x-python",
   "name": "python",
   "nbconvert_exporter": "python",
   "pygments_lexer": "ipython3",
   "version": "3.11.0"
  }
 },
 "nbformat": 4,
 "nbformat_minor": 2
}
