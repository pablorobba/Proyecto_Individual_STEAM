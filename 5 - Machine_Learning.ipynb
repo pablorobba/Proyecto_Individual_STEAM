{
 "cells": [
  {
   "cell_type": "markdown",
   "metadata": {},
   "source": [
    "# Machine Learning Process"
   ]
  },
  {
   "cell_type": "markdown",
   "metadata": {},
   "source": [
    "We are making a machine learning model that recommends games based on similarities on other games"
   ]
  },
  {
   "cell_type": "markdown",
   "metadata": {},
   "source": [
    "## We import the libraries"
   ]
  },
  {
   "cell_type": "code",
   "execution_count": 3,
   "metadata": {},
   "outputs": [],
   "source": [
    "import pandas as pd\n",
    "import numpy as np\n",
    "import scipy as sp\n",
    "import pyarrow as pa\n",
    "from sklearn.metrics.pairwise import cosine_similarity\n",
    "from sklearn.feature_extraction.text import TfidfVectorizer"
   ]
  },
  {
   "cell_type": "markdown",
   "metadata": {},
   "source": [
    "## Read the parquet"
   ]
  },
  {
   "cell_type": "code",
   "execution_count": 3,
   "metadata": {},
   "outputs": [],
   "source": [
    "df_ml = pd.read_parquet(\"Api_DataFrame\\df_ml.parquet\")"
   ]
  },
  {
   "cell_type": "code",
   "execution_count": 4,
   "metadata": {},
   "outputs": [
    {
     "name": "stdout",
     "output_type": "stream",
     "text": [
      "<class 'pandas.core.frame.DataFrame'>\n",
      "Index: 2000582 entries, 6021 to 11749140\n",
      "Data columns (total 9 columns):\n",
      " #   Column              Dtype  \n",
      "---  ------              -----  \n",
      " 0   item_id             object \n",
      " 1   item_name           object \n",
      " 2   playtime_forever    float64\n",
      " 3   user_id             object \n",
      " 4   genre               object \n",
      " 5   year                object \n",
      " 6   dev/publisher       object \n",
      " 7   recommend           bool   \n",
      " 8   sentiment_analysis  float64\n",
      "dtypes: bool(1), float64(2), object(6)\n",
      "memory usage: 139.3+ MB\n"
     ]
    }
   ],
   "source": [
    "df_ml.info()"
   ]
  },
  {
   "cell_type": "markdown",
   "metadata": {},
   "source": [
    "First, we are combaning the columns, since we are going to use the cosine similarity with text values"
   ]
  },
  {
   "cell_type": "code",
   "execution_count": 5,
   "metadata": {},
   "outputs": [],
   "source": [
    "df_ml['combined_columns'] = df_ml[\"item_name\"] + \" \" + df_ml[\"genre\"] + ' ' + df_ml['dev/publisher'] + df_ml['item_name'] + ' ' + df_ml['user_id'] + ' ' + df_ml['genre'] + ' ' + df_ml['year'] + ' ' + df_ml['dev/publisher'] \n"
   ]
  },
  {
   "cell_type": "code",
   "execution_count": 6,
   "metadata": {},
   "outputs": [
    {
     "data": {
      "text/html": [
       "<div>\n",
       "<style scoped>\n",
       "    .dataframe tbody tr th:only-of-type {\n",
       "        vertical-align: middle;\n",
       "    }\n",
       "\n",
       "    .dataframe tbody tr th {\n",
       "        vertical-align: top;\n",
       "    }\n",
       "\n",
       "    .dataframe thead th {\n",
       "        text-align: right;\n",
       "    }\n",
       "</style>\n",
       "<table border=\"1\" class=\"dataframe\">\n",
       "  <thead>\n",
       "    <tr style=\"text-align: right;\">\n",
       "      <th></th>\n",
       "      <th>item_id</th>\n",
       "      <th>item_name</th>\n",
       "      <th>playtime_forever</th>\n",
       "      <th>user_id</th>\n",
       "      <th>genre</th>\n",
       "      <th>year</th>\n",
       "      <th>dev/publisher</th>\n",
       "      <th>recommend</th>\n",
       "      <th>sentiment_analysis</th>\n",
       "      <th>combined_columns</th>\n",
       "    </tr>\n",
       "  </thead>\n",
       "  <tbody>\n",
       "    <tr>\n",
       "      <th>6021</th>\n",
       "      <td>240</td>\n",
       "      <td>Counter-Strike: Source</td>\n",
       "      <td>5751.0</td>\n",
       "      <td>maplemage</td>\n",
       "      <td>Action</td>\n",
       "      <td>2004</td>\n",
       "      <td>Valve</td>\n",
       "      <td>True</td>\n",
       "      <td>1.0</td>\n",
       "      <td>Counter-Strike: Source Action ValveCounter-Str...</td>\n",
       "    </tr>\n",
       "    <tr>\n",
       "      <th>6023</th>\n",
       "      <td>240</td>\n",
       "      <td>Counter-Strike: Source</td>\n",
       "      <td>5751.0</td>\n",
       "      <td>maplemage</td>\n",
       "      <td>Action</td>\n",
       "      <td>2004</td>\n",
       "      <td>Valve</td>\n",
       "      <td>True</td>\n",
       "      <td>2.0</td>\n",
       "      <td>Counter-Strike: Source Action ValveCounter-Str...</td>\n",
       "    </tr>\n",
       "    <tr>\n",
       "      <th>6024</th>\n",
       "      <td>300</td>\n",
       "      <td>Day of Defeat: Source</td>\n",
       "      <td>335.0</td>\n",
       "      <td>maplemage</td>\n",
       "      <td>Action</td>\n",
       "      <td>2010</td>\n",
       "      <td>Valve</td>\n",
       "      <td>True</td>\n",
       "      <td>1.0</td>\n",
       "      <td>Day of Defeat: Source Action ValveDay of Defea...</td>\n",
       "    </tr>\n",
       "    <tr>\n",
       "      <th>6026</th>\n",
       "      <td>300</td>\n",
       "      <td>Day of Defeat: Source</td>\n",
       "      <td>335.0</td>\n",
       "      <td>maplemage</td>\n",
       "      <td>Action</td>\n",
       "      <td>2010</td>\n",
       "      <td>Valve</td>\n",
       "      <td>True</td>\n",
       "      <td>2.0</td>\n",
       "      <td>Day of Defeat: Source Action ValveDay of Defea...</td>\n",
       "    </tr>\n",
       "    <tr>\n",
       "      <th>6027</th>\n",
       "      <td>320</td>\n",
       "      <td>Half-Life 2: Deathmatch</td>\n",
       "      <td>601.0</td>\n",
       "      <td>maplemage</td>\n",
       "      <td>Action</td>\n",
       "      <td>2004</td>\n",
       "      <td>Valve</td>\n",
       "      <td>True</td>\n",
       "      <td>1.0</td>\n",
       "      <td>Half-Life 2: Deathmatch Action ValveHalf-Life ...</td>\n",
       "    </tr>\n",
       "    <tr>\n",
       "      <th>...</th>\n",
       "      <td>...</td>\n",
       "      <td>...</td>\n",
       "      <td>...</td>\n",
       "      <td>...</td>\n",
       "      <td>...</td>\n",
       "      <td>...</td>\n",
       "      <td>...</td>\n",
       "      <td>...</td>\n",
       "      <td>...</td>\n",
       "      <td>...</td>\n",
       "    </tr>\n",
       "    <tr>\n",
       "      <th>11749135</th>\n",
       "      <td>434420</td>\n",
       "      <td>The Chosen RPG</td>\n",
       "      <td>0.0</td>\n",
       "      <td>76561198310819422</td>\n",
       "      <td>RPG</td>\n",
       "      <td>2016</td>\n",
       "      <td>Little Big Lee</td>\n",
       "      <td>True</td>\n",
       "      <td>1.0</td>\n",
       "      <td>The Chosen RPG RPG Little Big LeeThe Chosen RP...</td>\n",
       "    </tr>\n",
       "    <tr>\n",
       "      <th>11749137</th>\n",
       "      <td>461640</td>\n",
       "      <td>Sins Of The Demon RPG</td>\n",
       "      <td>0.0</td>\n",
       "      <td>76561198310819422</td>\n",
       "      <td>Action</td>\n",
       "      <td>2016</td>\n",
       "      <td>Chandler Rounsley</td>\n",
       "      <td>True</td>\n",
       "      <td>1.0</td>\n",
       "      <td>Sins Of The Demon RPG Action Chandler Rounsley...</td>\n",
       "    </tr>\n",
       "    <tr>\n",
       "      <th>11749138</th>\n",
       "      <td>461640</td>\n",
       "      <td>Sins Of The Demon RPG</td>\n",
       "      <td>0.0</td>\n",
       "      <td>76561198310819422</td>\n",
       "      <td>Adventure</td>\n",
       "      <td>2016</td>\n",
       "      <td>Chandler Rounsley</td>\n",
       "      <td>True</td>\n",
       "      <td>1.0</td>\n",
       "      <td>Sins Of The Demon RPG Adventure Chandler Rouns...</td>\n",
       "    </tr>\n",
       "    <tr>\n",
       "      <th>11749139</th>\n",
       "      <td>461640</td>\n",
       "      <td>Sins Of The Demon RPG</td>\n",
       "      <td>0.0</td>\n",
       "      <td>76561198310819422</td>\n",
       "      <td>Indie</td>\n",
       "      <td>2016</td>\n",
       "      <td>Chandler Rounsley</td>\n",
       "      <td>True</td>\n",
       "      <td>1.0</td>\n",
       "      <td>Sins Of The Demon RPG Indie Chandler RounsleyS...</td>\n",
       "    </tr>\n",
       "    <tr>\n",
       "      <th>11749140</th>\n",
       "      <td>461640</td>\n",
       "      <td>Sins Of The Demon RPG</td>\n",
       "      <td>0.0</td>\n",
       "      <td>76561198310819422</td>\n",
       "      <td>RPG</td>\n",
       "      <td>2016</td>\n",
       "      <td>Chandler Rounsley</td>\n",
       "      <td>True</td>\n",
       "      <td>1.0</td>\n",
       "      <td>Sins Of The Demon RPG RPG Chandler RounsleySin...</td>\n",
       "    </tr>\n",
       "  </tbody>\n",
       "</table>\n",
       "<p>2000582 rows × 10 columns</p>\n",
       "</div>"
      ],
      "text/plain": [
       "         item_id                item_name  playtime_forever  \\\n",
       "6021         240   Counter-Strike: Source            5751.0   \n",
       "6023         240   Counter-Strike: Source            5751.0   \n",
       "6024         300    Day of Defeat: Source             335.0   \n",
       "6026         300    Day of Defeat: Source             335.0   \n",
       "6027         320  Half-Life 2: Deathmatch             601.0   \n",
       "...          ...                      ...               ...   \n",
       "11749135  434420           The Chosen RPG               0.0   \n",
       "11749137  461640    Sins Of The Demon RPG               0.0   \n",
       "11749138  461640    Sins Of The Demon RPG               0.0   \n",
       "11749139  461640    Sins Of The Demon RPG               0.0   \n",
       "11749140  461640    Sins Of The Demon RPG               0.0   \n",
       "\n",
       "                    user_id      genre  year      dev/publisher  recommend  \\\n",
       "6021              maplemage     Action  2004              Valve       True   \n",
       "6023              maplemage     Action  2004              Valve       True   \n",
       "6024              maplemage     Action  2010              Valve       True   \n",
       "6026              maplemage     Action  2010              Valve       True   \n",
       "6027              maplemage     Action  2004              Valve       True   \n",
       "...                     ...        ...   ...                ...        ...   \n",
       "11749135  76561198310819422        RPG  2016     Little Big Lee       True   \n",
       "11749137  76561198310819422     Action  2016  Chandler Rounsley       True   \n",
       "11749138  76561198310819422  Adventure  2016  Chandler Rounsley       True   \n",
       "11749139  76561198310819422      Indie  2016  Chandler Rounsley       True   \n",
       "11749140  76561198310819422        RPG  2016  Chandler Rounsley       True   \n",
       "\n",
       "          sentiment_analysis  \\\n",
       "6021                     1.0   \n",
       "6023                     2.0   \n",
       "6024                     1.0   \n",
       "6026                     2.0   \n",
       "6027                     1.0   \n",
       "...                      ...   \n",
       "11749135                 1.0   \n",
       "11749137                 1.0   \n",
       "11749138                 1.0   \n",
       "11749139                 1.0   \n",
       "11749140                 1.0   \n",
       "\n",
       "                                           combined_columns  \n",
       "6021      Counter-Strike: Source Action ValveCounter-Str...  \n",
       "6023      Counter-Strike: Source Action ValveCounter-Str...  \n",
       "6024      Day of Defeat: Source Action ValveDay of Defea...  \n",
       "6026      Day of Defeat: Source Action ValveDay of Defea...  \n",
       "6027      Half-Life 2: Deathmatch Action ValveHalf-Life ...  \n",
       "...                                                     ...  \n",
       "11749135  The Chosen RPG RPG Little Big LeeThe Chosen RP...  \n",
       "11749137  Sins Of The Demon RPG Action Chandler Rounsley...  \n",
       "11749138  Sins Of The Demon RPG Adventure Chandler Rouns...  \n",
       "11749139  Sins Of The Demon RPG Indie Chandler RounsleyS...  \n",
       "11749140  Sins Of The Demon RPG RPG Chandler RounsleySin...  \n",
       "\n",
       "[2000582 rows x 10 columns]"
      ]
     },
     "execution_count": 6,
     "metadata": {},
     "output_type": "execute_result"
    }
   ],
   "source": [
    "df_ml"
   ]
  },
  {
   "cell_type": "markdown",
   "metadata": {},
   "source": [
    "We are going to ask for an id and then recive a similar game, so we are going to group the values by an id"
   ]
  },
  {
   "cell_type": "code",
   "execution_count": 7,
   "metadata": {},
   "outputs": [
    {
     "data": {
      "text/html": [
       "<div>\n",
       "<style scoped>\n",
       "    .dataframe tbody tr th:only-of-type {\n",
       "        vertical-align: middle;\n",
       "    }\n",
       "\n",
       "    .dataframe tbody tr th {\n",
       "        vertical-align: top;\n",
       "    }\n",
       "\n",
       "    .dataframe thead th {\n",
       "        text-align: right;\n",
       "    }\n",
       "</style>\n",
       "<table border=\"1\" class=\"dataframe\">\n",
       "  <thead>\n",
       "    <tr style=\"text-align: right;\">\n",
       "      <th></th>\n",
       "      <th>item_id</th>\n",
       "      <th>item_name</th>\n",
       "      <th>combined_columns</th>\n",
       "    </tr>\n",
       "  </thead>\n",
       "  <tbody>\n",
       "    <tr>\n",
       "      <th>0</th>\n",
       "      <td>10</td>\n",
       "      <td>Counter-Strike</td>\n",
       "      <td>Counter-Strike Action ValveCounter-Strike 7656...</td>\n",
       "    </tr>\n",
       "    <tr>\n",
       "      <th>1</th>\n",
       "      <td>1002</td>\n",
       "      <td>Rag Doll Kung Fu</td>\n",
       "      <td>Rag Doll Kung Fu Indie Mark HealeyRag Doll Kun...</td>\n",
       "    </tr>\n",
       "    <tr>\n",
       "      <th>2</th>\n",
       "      <td>100400</td>\n",
       "      <td>Silo 2</td>\n",
       "      <td>Silo 2 Animation &amp;amp; Modeling Nevercenter Lt...</td>\n",
       "    </tr>\n",
       "    <tr>\n",
       "      <th>3</th>\n",
       "      <td>10090</td>\n",
       "      <td>Call of Duty: World at War</td>\n",
       "      <td>Call of Duty: World at War Action TreyarchCall...</td>\n",
       "    </tr>\n",
       "    <tr>\n",
       "      <th>4</th>\n",
       "      <td>100980</td>\n",
       "      <td>3d-coat</td>\n",
       "      <td>3d-coat Animation &amp;amp; Modeling Pilgway3d-coa...</td>\n",
       "    </tr>\n",
       "    <tr>\n",
       "      <th>...</th>\n",
       "      <td>...</td>\n",
       "      <td>...</td>\n",
       "      <td>...</td>\n",
       "    </tr>\n",
       "    <tr>\n",
       "      <th>8028</th>\n",
       "      <td>9970</td>\n",
       "      <td>Star Raiders</td>\n",
       "      <td>Star Raiders  Action Incinerator StudiosStar R...</td>\n",
       "    </tr>\n",
       "    <tr>\n",
       "      <th>8029</th>\n",
       "      <td>99700</td>\n",
       "      <td>NightSky</td>\n",
       "      <td>NightSky Casual Nicalis, Inc.NightSky maplemag...</td>\n",
       "    </tr>\n",
       "    <tr>\n",
       "      <th>8030</th>\n",
       "      <td>9980</td>\n",
       "      <td>The UnderGarden</td>\n",
       "      <td>The UnderGarden Casual Artech StudiosThe Under...</td>\n",
       "    </tr>\n",
       "    <tr>\n",
       "      <th>8031</th>\n",
       "      <td>99900</td>\n",
       "      <td>Spiral Knights</td>\n",
       "      <td>Spiral Knights Action Grey HavensSpiral Knight...</td>\n",
       "    </tr>\n",
       "    <tr>\n",
       "      <th>8032</th>\n",
       "      <td>99910</td>\n",
       "      <td>Puzzle Pirates</td>\n",
       "      <td>Puzzle Pirates Adventure Three RingsPuzzle Pir...</td>\n",
       "    </tr>\n",
       "  </tbody>\n",
       "</table>\n",
       "<p>8033 rows × 3 columns</p>\n",
       "</div>"
      ],
      "text/plain": [
       "     item_id                   item_name  \\\n",
       "0         10              Counter-Strike   \n",
       "1       1002            Rag Doll Kung Fu   \n",
       "2     100400                      Silo 2   \n",
       "3      10090  Call of Duty: World at War   \n",
       "4     100980                     3d-coat   \n",
       "...      ...                         ...   \n",
       "8028    9970               Star Raiders    \n",
       "8029   99700                    NightSky   \n",
       "8030    9980             The UnderGarden   \n",
       "8031   99900              Spiral Knights   \n",
       "8032   99910              Puzzle Pirates   \n",
       "\n",
       "                                       combined_columns  \n",
       "0     Counter-Strike Action ValveCounter-Strike 7656...  \n",
       "1     Rag Doll Kung Fu Indie Mark HealeyRag Doll Kun...  \n",
       "2     Silo 2 Animation &amp; Modeling Nevercenter Lt...  \n",
       "3     Call of Duty: World at War Action TreyarchCall...  \n",
       "4     3d-coat Animation &amp; Modeling Pilgway3d-coa...  \n",
       "...                                                 ...  \n",
       "8028  Star Raiders  Action Incinerator StudiosStar R...  \n",
       "8029  NightSky Casual Nicalis, Inc.NightSky maplemag...  \n",
       "8030  The UnderGarden Casual Artech StudiosThe Under...  \n",
       "8031  Spiral Knights Action Grey HavensSpiral Knight...  \n",
       "8032  Puzzle Pirates Adventure Three RingsPuzzle Pir...  \n",
       "\n",
       "[8033 rows x 3 columns]"
      ]
     },
     "execution_count": 7,
     "metadata": {},
     "output_type": "execute_result"
    }
   ],
   "source": [
    "grouped_df = df_ml.groupby('item_id').agg({\n",
    "    'item_name': 'first',\n",
    "    \"combined_columns\" : \"first\"\n",
    "}).reset_index()\n",
    "\n",
    "grouped_df"
   ]
  },
  {
   "cell_type": "markdown",
   "metadata": {},
   "source": [
    "Now it's good enough to work with it"
   ]
  },
  {
   "cell_type": "code",
   "execution_count": 15,
   "metadata": {},
   "outputs": [],
   "source": [
    "tfidf_vectorizer = TfidfVectorizer()\n",
    "tfidf_matrix = tfidf_vectorizer.fit_transform(grouped_df['combined_columns'])\n",
    "\n",
    "cosine_sim = cosine_similarity(tfidf_matrix, tfidf_matrix)\n",
    "\n",
    "cosine_sim_df = pd.DataFrame(cosine_sim, index=grouped_df['item_id'], columns=grouped_df['item_id'])\n"
   ]
  },
  {
   "cell_type": "markdown",
   "metadata": {},
   "source": [
    "Save the groupped dataframe in a csv"
   ]
  },
  {
   "cell_type": "code",
   "execution_count": null,
   "metadata": {},
   "outputs": [],
   "source": [
    "grouped_df.to_csv(\"Api_DataFrame/grouped_df.csv\", index=False, encoding='utf-8')"
   ]
  },
  {
   "cell_type": "markdown",
   "metadata": {},
   "source": [
    "The function that will go to the API"
   ]
  },
  {
   "cell_type": "code",
   "execution_count": 4,
   "metadata": {},
   "outputs": [],
   "source": [
    "grouped_df = pd.read_csv(r\"Api_DataFrame/grouped_df.csv\")"
   ]
  },
  {
   "cell_type": "code",
   "execution_count": 24,
   "metadata": {},
   "outputs": [
    {
     "data": {
      "text/plain": [
       "['12 Labours of Hercules V: Kids of Hellas',\n",
       " '12 Labours of Hercules III: Girl Power',\n",
       " '12 Labours of Hercules IV: Mother Nature',\n",
       " '12 Labours of Hercules II: The Cretan Bull',\n",
       " 'Cursed']"
      ]
     },
     "execution_count": 24,
     "metadata": {},
     "output_type": "execute_result"
    }
   ],
   "source": [
    "def find_similar_games(item_id):\n",
    "    #list to save the result of the loop\n",
    "    list_ = []\n",
    "    #the ML model, which a cosine_similarity\n",
    "    tfidf_vectorizer = TfidfVectorizer()\n",
    "    tfidf_matrix = tfidf_vectorizer.fit_transform(grouped_df['combined_columns'])\n",
    "    cosine_sim = cosine_similarity(tfidf_matrix, tfidf_matrix)\n",
    "    cosine_sim_df = pd.DataFrame(cosine_sim, index=grouped_df['item_id'], columns=grouped_df['item_id'])\n",
    "\n",
    "    \n",
    "    game_index = grouped_df[grouped_df['item_id'] == item_id].index[0]  #save the index\n",
    "    \n",
    "    similar_scores = cosine_sim_df.iloc[game_index]     #make a series with the similar games\n",
    "    \n",
    "    similar_games = similar_scores.sort_values(ascending=False)   #order the game\n",
    "    \n",
    "    # We dont include the game that we passed (similarity 1.0, the highest one)\n",
    "    similar_games = similar_games[1:6]\n",
    "    index = similar_games.index.values      #save the index of the similar games\n",
    "    for i in index:                             #took the index that we saved, loop them into a mask, use the mask to\n",
    "        mask = grouped_df[\"item_id\"] == i #save the values in a list and then return it                     \n",
    "        list_.append(grouped_df[mask].item_name.values[0])\n",
    "    return list_\n",
    "\n",
    "# Llama a la función para encontrar los 5 juegos más parecidos a un juego dado (reemplaza 'item_id' con el ID del juego deseado)\n",
    "item_id = 342580\n",
    "similar_games = find_similar_games(item_id)\n",
    "similar_games"
   ]
  },
  {
   "cell_type": "markdown",
   "metadata": {},
   "source": [
    "The process where i made the function, step by step"
   ]
  },
  {
   "cell_type": "code",
   "execution_count": 13,
   "metadata": {},
   "outputs": [
    {
     "data": {
      "text/plain": [
       "3776"
      ]
     },
     "execution_count": 13,
     "metadata": {},
     "output_type": "execute_result"
    }
   ],
   "source": [
    "game_index = grouped_df[grouped_df['item_id'] == 342580].index[0]\n",
    "game_index"
   ]
  },
  {
   "cell_type": "code",
   "execution_count": 17,
   "metadata": {},
   "outputs": [
    {
     "data": {
      "text/plain": [
       "item_id\n",
       "10        0.000000\n",
       "1002      0.000000\n",
       "100400    0.000000\n",
       "10090     0.032659\n",
       "100980    0.000000\n",
       "            ...   \n",
       "9970      0.021903\n",
       "99700     0.037095\n",
       "9980      0.057377\n",
       "99900     0.000000\n",
       "99910     0.000000\n",
       "Name: 342580, Length: 8033, dtype: float64"
      ]
     },
     "execution_count": 17,
     "metadata": {},
     "output_type": "execute_result"
    }
   ],
   "source": [
    "similar_scores = cosine_sim_df.iloc[game_index]\n",
    "similar_scores"
   ]
  },
  {
   "cell_type": "code",
   "execution_count": 18,
   "metadata": {},
   "outputs": [
    {
     "data": {
      "text/plain": [
       "item_id\n",
       "342580    1.000000\n",
       "491330    0.848049\n",
       "360650    0.822953\n",
       "396800    0.812902\n",
       "360640    0.789821\n",
       "            ...   \n",
       "317710    0.000000\n",
       "317720    0.000000\n",
       "317760    0.000000\n",
       "317790    0.000000\n",
       "99910     0.000000\n",
       "Name: 342580, Length: 8033, dtype: float64"
      ]
     },
     "execution_count": 18,
     "metadata": {},
     "output_type": "execute_result"
    }
   ],
   "source": [
    "similar_games = similar_scores.sort_values(ascending=False)\n",
    "similar_games"
   ]
  },
  {
   "cell_type": "code",
   "execution_count": 19,
   "metadata": {},
   "outputs": [
    {
     "data": {
      "text/plain": [
       "item_id\n",
       "491330    0.848049\n",
       "360650    0.822953\n",
       "396800    0.812902\n",
       "360640    0.789821\n",
       "431260    0.304430\n",
       "Name: 342580, dtype: float64"
      ]
     },
     "execution_count": 19,
     "metadata": {},
     "output_type": "execute_result"
    }
   ],
   "source": [
    "similar_games = similar_games[1:6]\n",
    "similar_games"
   ]
  },
  {
   "cell_type": "code",
   "execution_count": 20,
   "metadata": {},
   "outputs": [
    {
     "data": {
      "text/plain": [
       "array([491330, 360650, 396800, 360640, 431260], dtype=int64)"
      ]
     },
     "execution_count": 20,
     "metadata": {},
     "output_type": "execute_result"
    }
   ],
   "source": [
    "index = similar_games.index.values #save the index of the similar games\n",
    "index"
   ]
  },
  {
   "cell_type": "code",
   "execution_count": 22,
   "metadata": {},
   "outputs": [],
   "source": [
    "list_ = []\n",
    "for i in index:\n",
    "    mask = grouped_df[\"item_id\"] == i                      \n",
    "    list_.append(grouped_df[mask].item_name.values[0])   "
   ]
  },
  {
   "cell_type": "code",
   "execution_count": 23,
   "metadata": {},
   "outputs": [
    {
     "data": {
      "text/plain": [
       "['12 Labours of Hercules V: Kids of Hellas',\n",
       " '12 Labours of Hercules III: Girl Power',\n",
       " '12 Labours of Hercules IV: Mother Nature',\n",
       " '12 Labours of Hercules II: The Cretan Bull',\n",
       " 'Cursed']"
      ]
     },
     "execution_count": 23,
     "metadata": {},
     "output_type": "execute_result"
    }
   ],
   "source": [
    "list_"
   ]
  },
  {
   "cell_type": "code",
   "execution_count": 255,
   "metadata": {},
   "outputs": [
    {
     "data": {
      "text/html": [
       "<div>\n",
       "<style scoped>\n",
       "    .dataframe tbody tr th:only-of-type {\n",
       "        vertical-align: middle;\n",
       "    }\n",
       "\n",
       "    .dataframe tbody tr th {\n",
       "        vertical-align: top;\n",
       "    }\n",
       "\n",
       "    .dataframe thead th {\n",
       "        text-align: right;\n",
       "    }\n",
       "</style>\n",
       "<table border=\"1\" class=\"dataframe\">\n",
       "  <thead>\n",
       "    <tr style=\"text-align: right;\">\n",
       "      <th></th>\n",
       "      <th>item_id</th>\n",
       "      <th>item_name</th>\n",
       "      <th>combined_columns</th>\n",
       "    </tr>\n",
       "  </thead>\n",
       "  <tbody>\n",
       "    <tr>\n",
       "      <th>7409</th>\n",
       "      <td>491330</td>\n",
       "      <td>12 Labours of Hercules V: Kids of Hellas</td>\n",
       "      <td>12 Labours of Hercules V: Kids of Hellas Casua...</td>\n",
       "    </tr>\n",
       "  </tbody>\n",
       "</table>\n",
       "</div>"
      ],
      "text/plain": [
       "     item_id                                 item_name  \\\n",
       "7409  491330  12 Labours of Hercules V: Kids of Hellas   \n",
       "\n",
       "                                       combined_columns  \n",
       "7409  12 Labours of Hercules V: Kids of Hellas Casua...  "
      ]
     },
     "execution_count": 255,
     "metadata": {},
     "output_type": "execute_result"
    }
   ],
   "source": [
    "mask = grouped_df[\"item_id\"] == \"491330\"\n",
    "grouped_df[mask]"
   ]
  }
 ],
 "metadata": {
  "kernelspec": {
   "display_name": "Python 3",
   "language": "python",
   "name": "python3"
  },
  "language_info": {
   "codemirror_mode": {
    "name": "ipython",
    "version": 3
   },
   "file_extension": ".py",
   "mimetype": "text/x-python",
   "name": "python",
   "nbconvert_exporter": "python",
   "pygments_lexer": "ipython3",
   "version": "3.11.0"
  }
 },
 "nbformat": 4,
 "nbformat_minor": 2
}
